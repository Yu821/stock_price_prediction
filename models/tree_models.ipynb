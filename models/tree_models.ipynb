{
 "cells": [
  {
   "cell_type": "code",
   "execution_count": 1,
   "id": "85a0b57b",
   "metadata": {},
   "outputs": [],
   "source": [
    "import numpy as np\n",
    "import pandas as pd\n",
    "import seaborn as sns\n",
    "from tqdm.auto import tqdm\n",
    "\n",
    "import matplotlib.pyplot as plt\n",
    "from IPython.display import display, HTML\n",
    "import warnings\n",
    "warnings.filterwarnings('ignore')\n",
    "\n",
    "from sklearn.ensemble import RandomForestRegressor\n",
    "from sklearn.metrics import mean_absolute_error, mean_squared_error, mean_absolute_percentage_error\n",
    "\n",
    "import lightgbm as lgb\n",
    "\n",
    "from ta import add_all_ta_features\n",
    "\n",
    "import gc\n",
    "\n",
    "# 表示用の設定を変更します\n",
    "%matplotlib inline\n",
    "pd.options.display.max_rows = 100\n",
    "pd.options.display.max_columns = 100\n",
    "pd.options.display.width = 130\n",
    "\n",
    "\n",
    "from IPython.core.interactiveshell import InteractiveShell\n",
    "InteractiveShell.ast_node_interactivity = \"all\"\n",
    "\n"
   ]
  },
  {
   "cell_type": "code",
   "execution_count": 2,
   "id": "e59a0038",
   "metadata": {},
   "outputs": [],
   "source": [
    "fin_price_news = pd.read_csv(\"./data/price.csv\")\n",
    "\n",
    "fin_price_news[\"date\"] = pd.DatetimeIndex(fin_price_news[\"label\"])\n",
    "fin_price_news.drop(\"label\", axis=1, inplace=True)\n",
    "\n",
    "fin_price_news = fin_price_news.sort_values(by=\"date\").reset_index(drop=True)\n"
   ]
  },
  {
   "cell_type": "code",
   "execution_count": 3,
   "id": "eb5b7d8e",
   "metadata": {},
   "outputs": [
    {
     "data": {
      "text/plain": [
       "Index(['change', 'changeOverTime', 'changePercent', 'close', 'fClose', 'fHigh', 'fLow', 'fOpen', 'fVolume', 'high', 'id', 'key',\n",
       "       'low', 'marketChangeOverTime', 'open', 'subkey', 'symbol', 'uClose', 'uHigh', 'uLow', 'uOpen', 'uVolume', 'updated',\n",
       "       'volume', 'date'],\n",
       "      dtype='object')"
      ]
     },
     "execution_count": 3,
     "metadata": {},
     "output_type": "execute_result"
    }
   ],
   "source": [
    "fin_price_news.columns"
   ]
  },
  {
   "cell_type": "markdown",
   "id": "fcb37b3c",
   "metadata": {},
   "source": [
    "## Create target variables"
   ]
  },
  {
   "cell_type": "code",
   "execution_count": 4,
   "id": "c20007f9",
   "metadata": {},
   "outputs": [],
   "source": [
    "def get_target(df, key):\n",
    "    \n",
    "    df = df[df[\"key\"] == key]\n",
    "    \n",
    "    df[\"change_one_day\"] = df[\"fClose\"].shift(-1)\n",
    "    \n",
    "#     print(df[[\"date\",\"fClose\", \"change_one_day\"]])\n",
    "#     df[\"change_two_weeks\"] = df[\"fClose\"].pct_change(10)\n",
    "#     df[\"change_one_month\"] = df[\"fClose\"].pct_change(20)\n",
    "    \n",
    "    return df"
   ]
  },
  {
   "cell_type": "code",
   "execution_count": 5,
   "id": "6fac328d",
   "metadata": {},
   "outputs": [
    {
     "data": {
      "application/vnd.jupyter.widget-view+json": {
       "model_id": "1401bf017e124f328777423072230962",
       "version_major": 2,
       "version_minor": 0
      },
      "text/plain": [
       "  0%|          | 0/10 [00:00<?, ?it/s]"
      ]
     },
     "metadata": {},
     "output_type": "display_data"
    },
    {
     "data": {
      "text/plain": [
       "54"
      ]
     },
     "execution_count": 5,
     "metadata": {},
     "output_type": "execute_result"
    },
    {
     "data": {
      "text/html": [
       "<div>\n",
       "<style scoped>\n",
       "    .dataframe tbody tr th:only-of-type {\n",
       "        vertical-align: middle;\n",
       "    }\n",
       "\n",
       "    .dataframe tbody tr th {\n",
       "        vertical-align: top;\n",
       "    }\n",
       "\n",
       "    .dataframe thead th {\n",
       "        text-align: right;\n",
       "    }\n",
       "</style>\n",
       "<table border=\"1\" class=\"dataframe\">\n",
       "  <thead>\n",
       "    <tr style=\"text-align: right;\">\n",
       "      <th></th>\n",
       "      <th>date</th>\n",
       "      <th>fClose</th>\n",
       "      <th>change_one_day</th>\n",
       "    </tr>\n",
       "  </thead>\n",
       "  <tbody>\n",
       "    <tr>\n",
       "      <th>10064</th>\n",
       "      <td>2016-04-04</td>\n",
       "      <td>25.8384</td>\n",
       "      <td>25.5338</td>\n",
       "    </tr>\n",
       "    <tr>\n",
       "      <th>10065</th>\n",
       "      <td>2016-04-05</td>\n",
       "      <td>25.5338</td>\n",
       "      <td>25.8012</td>\n",
       "    </tr>\n",
       "    <tr>\n",
       "      <th>10066</th>\n",
       "      <td>2016-04-06</td>\n",
       "      <td>25.8012</td>\n",
       "      <td>25.2385</td>\n",
       "    </tr>\n",
       "  </tbody>\n",
       "</table>\n",
       "</div>"
      ],
      "text/plain": [
       "            date   fClose  change_one_day\n",
       "10064 2016-04-04  25.8384         25.5338\n",
       "10065 2016-04-05  25.5338         25.8012\n",
       "10066 2016-04-06  25.8012         25.2385"
      ]
     },
     "execution_count": 5,
     "metadata": {},
     "output_type": "execute_result"
    }
   ],
   "source": [
    "keys = fin_price_news['key'].unique()\n",
    "\n",
    "temp = []\n",
    "\n",
    "for key in tqdm(keys):\n",
    "    target = get_target(fin_price_news, key)\n",
    "    temp.append(target)\n",
    "\n",
    "fin_price_news = pd.concat(temp)\n",
    "\n",
    "del target; gc.collect()\n",
    "\n",
    "fin_price_news.dropna(subset=[\"change_one_day\"], inplace=True)\n",
    "fin_price_news.reset_index(drop=True, inplace=True)\n",
    "\n",
    "fin_price_news[fin_price_news[\"key\"] == \"AAPL\"][[\"date\",\"fClose\", \"change_one_day\"]].head(3)"
   ]
  },
  {
   "cell_type": "markdown",
   "id": "c1cd246e",
   "metadata": {},
   "source": [
    "## Create features"
   ]
  },
  {
   "cell_type": "code",
   "execution_count": 6,
   "id": "0cc92271",
   "metadata": {},
   "outputs": [],
   "source": [
    "def get_features(df, key):\n",
    "    \n",
    "    df = df[df[\"key\"] == key]\n",
    "    \n",
    "    # Price volatility\n",
    "    df[\"volatility_1month\"] = (\n",
    "        np.log(df[\"fClose\"]).diff().rolling(20).std()\n",
    "    )\n",
    "    \n",
    "    df[\"volatility_2month\"] = (\n",
    "        np.log(df[\"fClose\"]).diff().rolling(40).std()\n",
    "    )\n",
    "    \n",
    "    df[\"volatility_3month\"] = (\n",
    "        np.log(df[\"fClose\"]).diff().rolling(60).std()\n",
    "    )\n",
    "    \n",
    "    # Gap between MA and close price\n",
    "    df[\"MA_gap_1month\"] = df[\"fClose\"] / (\n",
    "        df[\"fClose\"].rolling(20).mean()\n",
    "    )\n",
    "\n",
    "    df[\"MA_gap_2month\"] = df[\"fClose\"] / (\n",
    "        df[\"fClose\"].rolling(40).mean()\n",
    "    )\n",
    "\n",
    "    df[\"MA_gap_3month\"] = df[\"fClose\"] / (\n",
    "        df[\"fClose\"].rolling(60).mean()\n",
    "    )\n",
    "    \n",
    "    # Volume volatility\n",
    "    df[\"vol_volatility_1month\"] = (\n",
    "        np.log(df[\"fVolume\"]+1).diff().rolling(20).std()\n",
    "    )\n",
    "    \n",
    "    df[\"vol_volatility_2month\"] = (\n",
    "        np.log(df[\"fVolume\"]+1).diff().rolling(40).std()\n",
    "    )\n",
    "    \n",
    "    df[\"vol_volatility_3month\"] = (\n",
    "        np.log(df[\"fVolume\"]+1).diff().rolling(60).std()\n",
    "    )\n",
    "    \n",
    "    # Volume * Price volatility\n",
    "    df[\"vol_price_volatility_1month\"] = (\n",
    "        (np.log(df[\"fVolume\"]+1) * np.log(df[\"fClose\"])).diff().rolling(20).std()\n",
    "    )\n",
    "    \n",
    "    df[\"vol_price_volatility_2month\"] = (\n",
    "        (np.log(df[\"fVolume\"]+1) * np.log(df[\"fClose\"])).diff().rolling(40).std()\n",
    "    )\n",
    "    \n",
    "    df[\"vol_price_volatility_3month\"] = (\n",
    "        (np.log(df[\"fVolume\"]+1) * np.log(df[\"fClose\"])).diff().rolling(60).std()\n",
    "    )\n",
    "\n",
    "    return df\n",
    "    "
   ]
  },
  {
   "cell_type": "code",
   "execution_count": 7,
   "id": "ee2634da",
   "metadata": {},
   "outputs": [
    {
     "data": {
      "application/vnd.jupyter.widget-view+json": {
       "model_id": "80d69cca10fc4ab18d635ee45f8e1e34",
       "version_major": 2,
       "version_minor": 0
      },
      "text/plain": [
       "  0%|          | 0/10 [00:00<?, ?it/s]"
      ]
     },
     "metadata": {},
     "output_type": "display_data"
    },
    {
     "data": {
      "text/plain": [
       "0"
      ]
     },
     "execution_count": 7,
     "metadata": {},
     "output_type": "execute_result"
    }
   ],
   "source": [
    "\n",
    "temp = []\n",
    "\n",
    "for key in tqdm(keys):\n",
    "    feat = get_features(fin_price_news, key)\n",
    "    feat = add_all_ta_features(feat, open=\"fOpen\", high=\"fHigh\", low=\"fLow\", close=\"fClose\",\n",
    "                                     volume=\"fVolume\", fillna=True)\n",
    "\n",
    "\n",
    "    temp.append(feat)\n",
    "\n",
    "fin_price_news = pd.concat(temp)\n",
    "\n",
    "del feat; gc.collect()\n",
    "\n",
    "# fin_price_news.dropna(inplace=True)\n",
    "fin_price_news.reset_index(drop=True, inplace=True)\n",
    "\n"
   ]
  },
  {
   "cell_type": "code",
   "execution_count": 8,
   "id": "0a5e2d5a",
   "metadata": {},
   "outputs": [
    {
     "data": {
      "text/plain": [
       "(12578, 121)"
      ]
     },
     "execution_count": 8,
     "metadata": {},
     "output_type": "execute_result"
    }
   ],
   "source": [
    "fin_price_news.shape"
   ]
  },
  {
   "cell_type": "markdown",
   "id": "469764e5",
   "metadata": {},
   "source": [
    "## Drop unecessary columns"
   ]
  },
  {
   "cell_type": "markdown",
   "id": "232135da",
   "metadata": {},
   "source": [
    "### Check percentage of missing rows for each column"
   ]
  },
  {
   "cell_type": "code",
   "execution_count": 9,
   "id": "71516b53",
   "metadata": {},
   "outputs": [
    {
     "name": "stdout",
     "output_type": "stream",
     "text": [
      "                             Total   Percent\n",
      "subkey                       12578  1.000000\n",
      "vol_price_volatility_3month    600  0.047702\n",
      "vol_volatility_3month          600  0.047702\n",
      "volatility_3month              600  0.047702\n",
      "MA_gap_3month                  590  0.046907\n",
      "vol_volatility_2month          400  0.031802\n",
      "volatility_2month              400  0.031802\n",
      "vol_price_volatility_2month    400  0.031802\n",
      "MA_gap_2month                  390  0.031007\n",
      "vol_price_volatility_1month    200  0.015901\n"
     ]
    }
   ],
   "source": [
    "total = fin_price_news.isnull().sum().sort_values(ascending=False)\n",
    "percent = (fin_price_news.isnull().sum()/fin_price_news.isnull().count()).sort_values(ascending=False)\n",
    "missing_data = pd.concat([total, percent], axis=1, keys=['Total', 'Percent'])\n",
    "\n",
    "print(missing_data.head(10))"
   ]
  },
  {
   "cell_type": "markdown",
   "id": "30db3480",
   "metadata": {},
   "source": [
    "### Drop unecessary columns"
   ]
  },
  {
   "cell_type": "code",
   "execution_count": 10,
   "id": "5a091a5a",
   "metadata": {},
   "outputs": [],
   "source": [
    "obj_columns = fin_price_news.select_dtypes(['object']).columns.values\n",
    "\n",
    "na_cols = [col for col in obj_columns if '_x' in col]\n",
    "na_cols = na_cols + ['id', 'symbol', 'updated', 'currency_x', 'filingType_x', 'fiscalDate_x', 'reportDate_x', 'symbol_x',\n",
    "                     'id_x', 'subkey_x', 'currency_y', 'filingType_y', 'fiscalDate_y', 'reportDate_y', 'symbol_y', 'id_y',\n",
    "                     'subkey_y', 'ticker']\n",
    "\n",
    "missing_cols = [\"stock_news_score\", \"market_news_score\", \"subkey\", \"capitalSurplus\"]\n",
    "\n",
    "na_cols = na_cols + missing_cols\n",
    "\n",
    "na_cols = [i for i in na_cols if i in fin_price_news.columns.values]\n",
    "\n",
    "\n",
    "fin_price_news.drop(na_cols, axis=1, inplace=True)"
   ]
  },
  {
   "cell_type": "markdown",
   "id": "c0fa9245",
   "metadata": {},
   "source": [
    "## Label Encoding"
   ]
  },
  {
   "cell_type": "code",
   "execution_count": 11,
   "id": "84ee1076",
   "metadata": {},
   "outputs": [
    {
     "name": "stdout",
     "output_type": "stream",
     "text": [
      "['key']\n"
     ]
    }
   ],
   "source": [
    "from sklearn.preprocessing import LabelEncoder\n",
    "\n",
    "label_encoder = LabelEncoder()\n",
    "\n",
    "obj_columns = fin_price_news.select_dtypes(['object']).columns.values\n",
    "\n",
    "print(obj_columns.tolist())\n",
    "\n",
    "for col in obj_columns:\n",
    "    le = LabelEncoder()\n",
    "    fin_price_news.loc[:, col] = le.fit_transform(fin_price_news.loc[:, col])\n"
   ]
  },
  {
   "cell_type": "code",
   "execution_count": 12,
   "id": "a9f8e7eb",
   "metadata": {},
   "outputs": [
    {
     "data": {
      "text/plain": [
       "0       2016-04-04\n",
       "1       2016-04-05\n",
       "2       2016-04-06\n",
       "3       2016-04-07\n",
       "4       2016-04-08\n",
       "           ...    \n",
       "12573   2021-03-25\n",
       "12574   2021-03-26\n",
       "12575   2021-03-29\n",
       "12576   2021-03-30\n",
       "12577   2021-03-31\n",
       "Name: date, Length: 12578, dtype: datetime64[ns]"
      ]
     },
     "execution_count": 12,
     "metadata": {},
     "output_type": "execute_result"
    }
   ],
   "source": [
    "fin_price_news.date"
   ]
  },
  {
   "cell_type": "markdown",
   "id": "c7e2f1d9",
   "metadata": {},
   "source": [
    "## LightGBM"
   ]
  },
  {
   "cell_type": "code",
   "execution_count": 13,
   "id": "bdeadfe3",
   "metadata": {},
   "outputs": [
    {
     "data": {
      "text/plain": [
       "0       2016-04-04\n",
       "1       2016-04-05\n",
       "2       2016-04-06\n",
       "3       2016-04-07\n",
       "4       2016-04-08\n",
       "           ...    \n",
       "12573   2021-03-25\n",
       "12574   2021-03-26\n",
       "12575   2021-03-29\n",
       "12576   2021-03-30\n",
       "12577   2021-03-31\n",
       "Name: date, Length: 12578, dtype: datetime64[ns]"
      ]
     },
     "execution_count": 13,
     "metadata": {},
     "output_type": "execute_result"
    }
   ],
   "source": [
    "fin_price_news.date"
   ]
  },
  {
   "cell_type": "code",
   "execution_count": 14,
   "id": "90f798e1",
   "metadata": {},
   "outputs": [],
   "source": [
    "fin_price_news.sort_values(by=\"date\", inplace=True)\n",
    "fin_price_news.reset_index(inplace=True)\n",
    "\n",
    "# fin_price_news.set_index(\"date\", drop=True, inplace=True)\n",
    "\n",
    "train_y = fin_price_news[\"change_one_day\"]\n",
    "train_X = fin_price_news.drop([\"change_one_day\"], axis=1)\n",
    "\n",
    "\n",
    "train_X.drop(\"date\", axis=1, inplace=True)"
   ]
  },
  {
   "cell_type": "code",
   "execution_count": 41,
   "id": "0f9487d7",
   "metadata": {},
   "outputs": [],
   "source": [
    "import pickle\n",
    "\n",
    "pickle.dump(train_X, open(f\"./models/tree_train_X.pkl\", \"wb\"))\n",
    "pickle.dump(train_y, open(f\"./models/tree_train_y.pkl\", \"wb\"))\n"
   ]
  },
  {
   "cell_type": "code",
   "execution_count": 35,
   "id": "0ef68138",
   "metadata": {},
   "outputs": [
    {
     "name": "stdout",
     "output_type": "stream",
     "text": [
      "train_X:  (12578, 116)\n",
      "train_y:  (12578,)\n",
      "\n",
      " fold 0\n",
      "train_idx:  2518\n",
      "val_idx:  2515\n",
      "[LightGBM] [Warning] min_data_in_leaf is set=20, min_child_samples=20 will be ignored. Current value: min_data_in_leaf=20\n",
      "Training until validation scores don't improve for 200 rounds\n",
      "[1000]\ttraining's l1: 0.17109\tvalid_1's l1: 9.27553\n",
      "Early stopping, best iteration is:\n",
      "[1735]\ttraining's l1: 0.138497\tvalid_1's l1: 9.22683\n"
     ]
    },
    {
     "data": {
      "text/plain": [
       "LGBMRegressor(importance_type='gain', learning_rate=0.01, min_data_in_leaf=20,\n",
       "              n_estimators=10000, num_leaves=30, objective='regression_l1')"
      ]
     },
     "execution_count": 35,
     "metadata": {},
     "output_type": "execute_result"
    },
    {
     "name": "stdout",
     "output_type": "stream",
     "text": [
      "Target - median(target):  47.94006095427435\n",
      "Target - mean(target):  49.97420256895209 \n",
      "\n",
      "29.82% of the predictions were 1% away from actual price\n",
      "45.96% of the predictions were 2% away from actual price\n",
      "58.37% of the predictions were 3% away from actual price\n",
      "\n",
      "\n",
      "\n",
      " fold 1\n",
      "train_idx:  5033\n",
      "val_idx:  2515\n",
      "[LightGBM] [Warning] min_data_in_leaf is set=20, min_child_samples=20 will be ignored. Current value: min_data_in_leaf=20\n",
      "Training until validation scores don't improve for 200 rounds\n",
      "[1000]\ttraining's l1: 0.261256\tvalid_1's l1: 4.78893\n",
      "[2000]\ttraining's l1: 0.202157\tvalid_1's l1: 4.72275\n",
      "[3000]\ttraining's l1: 0.182004\tvalid_1's l1: 4.70613\n",
      "[4000]\ttraining's l1: 0.16587\tvalid_1's l1: 4.66884\n",
      "Early stopping, best iteration is:\n",
      "[4431]\ttraining's l1: 0.161053\tvalid_1's l1: 4.66364\n"
     ]
    },
    {
     "data": {
      "text/plain": [
       "LGBMRegressor(importance_type='gain', learning_rate=0.01, min_data_in_leaf=20,\n",
       "              n_estimators=10000, num_leaves=30, objective='regression_l1')"
      ]
     },
     "execution_count": 35,
     "metadata": {},
     "output_type": "execute_result"
    },
    {
     "name": "stdout",
     "output_type": "stream",
     "text": [
      "Target - median(target):  58.85415721669979\n",
      "Target - mean(target):  60.16530653689004 \n",
      "\n",
      "45.33% of the predictions were 1% away from actual price\n",
      "59.84% of the predictions were 2% away from actual price\n",
      "67.87% of the predictions were 3% away from actual price\n",
      "\n",
      "\n",
      "\n",
      " fold 2\n",
      "train_idx:  7548\n",
      "val_idx:  2515\n",
      "[LightGBM] [Warning] min_data_in_leaf is set=20, min_child_samples=20 will be ignored. Current value: min_data_in_leaf=20\n",
      "Training until validation scores don't improve for 200 rounds\n",
      "[1000]\ttraining's l1: 0.354846\tvalid_1's l1: 13.8051\n",
      "Early stopping, best iteration is:\n",
      "[1737]\ttraining's l1: 0.290503\tvalid_1's l1: 13.5809\n"
     ]
    },
    {
     "data": {
      "text/plain": [
       "LGBMRegressor(importance_type='gain', learning_rate=0.01, min_data_in_leaf=20,\n",
       "              n_estimators=10000, num_leaves=30, objective='regression_l1')"
      ]
     },
     "execution_count": 35,
     "metadata": {},
     "output_type": "execute_result"
    },
    {
     "name": "stdout",
     "output_type": "stream",
     "text": [
      "Target - median(target):  83.69465864811134\n",
      "Target - mean(target):  86.04353109639584 \n",
      "\n",
      "53.84% of the predictions were 1% away from actual price\n",
      "69.58% of the predictions were 2% away from actual price\n",
      "75.19% of the predictions were 3% away from actual price\n",
      "\n",
      "\n",
      "\n",
      " fold 3\n",
      "train_idx:  10063\n",
      "val_idx:  2515\n",
      "[LightGBM] [Warning] min_data_in_leaf is set=20, min_child_samples=20 will be ignored. Current value: min_data_in_leaf=20\n",
      "Training until validation scores don't improve for 200 rounds\n",
      "[1000]\ttraining's l1: 0.617067\tvalid_1's l1: 55.8742\n",
      "[2000]\ttraining's l1: 0.515907\tvalid_1's l1: 55.1813\n",
      "[3000]\ttraining's l1: 0.462983\tvalid_1's l1: 55.033\n",
      "Early stopping, best iteration is:\n",
      "[3526]\ttraining's l1: 0.439079\tvalid_1's l1: 54.8724\n"
     ]
    },
    {
     "data": {
      "text/plain": [
       "LGBMRegressor(importance_type='gain', learning_rate=0.01, min_data_in_leaf=20,\n",
       "              n_estimators=10000, num_leaves=30, objective='regression_l1')"
      ]
     },
     "execution_count": 35,
     "metadata": {},
     "output_type": "execute_result"
    },
    {
     "name": "stdout",
     "output_type": "stream",
     "text": [
      "Target - median(target):  164.12766779324056\n",
      "Target - mean(target):  181.12838791774237 \n",
      "\n",
      "56.78% of the predictions were 1% away from actual price\n",
      "74.04% of the predictions were 2% away from actual price\n",
      "79.92% of the predictions were 3% away from actual price\n",
      "\n",
      "\n",
      "Mean validation MAE:  20.585943869912338 \n",
      "\n",
      "Mean validation MAE when we setted all predictions to be the mean of target:  94.32785702999509\n",
      "Mean validation MSE:  8118.063138618602 \n",
      "\n",
      "Mean validation MSE when we setted all predictions to be the mean of target:  23473.55120669118\n",
      "\n",
      "46.4425 % of the predictions were 1% away from actual price\n",
      "62.355000000000004 % of the predictions were 2% away from actual price\n",
      "70.3375 % of the predictions were 3% away from actual price\n"
     ]
    }
   ],
   "source": [
    "from sklearn.model_selection import TimeSeriesSplit\n",
    "from statistics import mean\n",
    "import pickle\n",
    "\n",
    "metric = 'l1'\n",
    "\n",
    "# Hyperparameters are tuned already\n",
    "params = {\n",
    "\t\t  'objective': 'regression_l1',\n",
    "\t\t  'num_leaves': 30,\n",
    "\t\t  'min_data_in_leaf': 20,\n",
    "\t\t  'max_depth': -1,\n",
    "\t\t  'learning_rate': 0.01,\n",
    "\t\t }\n",
    "\n",
    "\n",
    "\n",
    "oof = np.zeros(len(train_X))\n",
    "feature_importance_df = pd.DataFrame()\n",
    "\n",
    "percentage_lst = {k: [] for k in range(1, 4)}\n",
    "standard = {\"mae\": [] , \"mse\": []}\n",
    "\n",
    "print('train_X: ',train_X.shape)\n",
    "print('train_y: ',train_y.shape)\n",
    "\n",
    "acc = {\"mae\": [] , \"mse\": []}\n",
    "\n",
    "num_seeds = [0]\n",
    "\n",
    "\n",
    "for seed in num_seeds:\n",
    "\n",
    "\tfolds = TimeSeriesSplit(n_splits=4)\n",
    "    \n",
    "\t#run model\n",
    "\tfor fold_, (trn_idx, val_idx) in enumerate(folds.split(train_X, train_y)):\n",
    "\t\tstrLog = \"\\n fold {}\".format(fold_)\n",
    "\t\tprint(strLog)\n",
    "\n",
    "\t\t# Output the size of train and validation set\n",
    "\t\tprint('train_idx: ',len(trn_idx))\n",
    "\t\tprint('val_idx: ',len(val_idx))\n",
    "\n",
    "\t\tX_tr, X_val = train_X.iloc[trn_idx], train_X.iloc[val_idx]\n",
    "\t\ty_tr, y_val = train_y.iloc[trn_idx], train_y.iloc[val_idx]\n",
    "        \n",
    "        \n",
    "\t\tmodel = lgb.LGBMRegressor(**params, n_estimators=10000, importance_type='gain', n_jobs=-1)\n",
    "\n",
    "\t\tmodel.fit(X_tr,\n",
    "\t\t\t\t  y_tr,\n",
    "\t\t\t\t  eval_set=[(X_tr,y_tr),(X_val, y_val)],\n",
    "\t\t\t\t  verbose=1000,\n",
    "\t\t\t\t  early_stopping_rounds=200\n",
    "\t\t\t\t  )\n",
    "        \n",
    "#         Save model\n",
    "\t\tpickle.dump(model, open(f\"./models/model_{fold_}.pkl\", \"wb\"))\n",
    "\n",
    "\t\tpreds = model.predict(X_val, num_iteration=model.best_iteration_)\n",
    "\t\toof[val_idx] += preds\n",
    "\n",
    "\n",
    "\t\tacc[\"mae\"].append(model.best_score_['valid_1'][metric])\n",
    "\t\tacc[\"mse\"].append(mean_squared_error(preds, y_val))\n",
    "\n",
    "        \n",
    "# \t\tprint(oof[val_idx])\n",
    "\t\tmedians = np.repeat(np.median(y_val), y_val.shape[0])\n",
    "\t\tprint(\"Target - median(target): \", mean_absolute_error(medians, y_val))\n",
    "\n",
    "\t\tmeans = np.repeat(np.mean(y_val), y_val.shape[0])\n",
    "\t\tprint(\"Target - mean(target): \", mean_absolute_error(means, y_val), \"\\n\")\n",
    "        \n",
    "\t\tstandard[\"mae\"].append(mean_absolute_error(means, y_val))\n",
    "\t\tstandard[\"mse\"].append(mean_squared_error(means, y_val))\n",
    "\n",
    "\n",
    "\t\tpercentages = [1,2,3]\n",
    "\t\ttotal = len(y_val.values)\n",
    "        \n",
    "\t\ty_val.reset_index(drop=True, inplace=True)\n",
    "\t\ty_val = y_val.values\n",
    "        \n",
    "        \n",
    "\t\tfor percent in percentages:\n",
    "\t\t\tcorrect = 0\n",
    "            \n",
    "\t\t\tfor i in range(len(y_val)):\n",
    "\t\t\t\tupper = y_val[i] + (( percent / 100) * y_val[i] )\n",
    "\t\t\t\tlower = y_val[i] - (( percent / 100) * y_val[i] )\n",
    "\t\t\t\tif preds[i] < upper and preds[i] > lower:\n",
    "\t\t\t\t\tcorrect = correct + 1\n",
    "\t\t\t\telse:\n",
    "\t\t\t\t\tpass\n",
    "\n",
    "\t\t\tprint(\"{}% of the predictions were {}% away from actual price\".format(round((correct/total)*100,2), percent))\n",
    "            \n",
    "\t\t\tpercentage_lst[percent].append(round((correct/total)*100,2))\n",
    "            \n",
    "\t\tprint(\"\\n\")\n",
    "\n",
    "        \n",
    "        \n",
    "# \t\tpredictions += model.predict(X_val, num_iteration=model.best_iteration_) / folds.n_splits / len(num_seeds)\n",
    "\n",
    "# \t\tprint(model.best_score_['valid_1'][metric])\n",
    "\n",
    "\t\tacc[\"mae\"].append(model.best_score_['valid_1'][metric])\n",
    "\n",
    "\t\t#feature importance\n",
    "\t\tfold_importance_df = pd.DataFrame()\n",
    "\t\tfold_importance_df[\"feature\"] = train_X.columns.values\n",
    "\t\tfold_importance_df[\"importance\"] = model.feature_importances_[:len(train_X.columns.values)]\n",
    "\t\tfold_importance_df[\"fold\"] = fold_ + 1\n",
    "\t\tfeature_importance_df = pd.concat([feature_importance_df, fold_importance_df], axis=0)\n",
    "\n",
    "\n",
    "print(\"Mean validation MAE: \", mean(acc[\"mae\"]), \"\\n\")\n",
    "print(\"Mean validation MAE when we setted all predictions to be the mean of target: \", mean(standard[\"mae\"]))\n",
    "\n",
    "print(\"Mean validation MSE: \", mean(acc[\"mse\"]), \"\\n\")\n",
    "print(\"Mean validation MSE when we setted all predictions to be the mean of target: \", mean(standard[\"mse\"]))\n",
    "\n",
    "print()\n",
    "\n",
    "for key in percentage_lst.keys():\n",
    "    print(mean(percentage_lst[key]),  f\"% of the predictions were {key}% away from actual price\")\n",
    "    \n",
    "# print('[' + str(len(train_X.columns.values))+']')\n",
    "# print(train_X.columns.values)\n",
    "\n",
    "# print(feature_importance_df.groupby('feature').mean().sort_values(by='importance',ascending=False))\n",
    "\n"
   ]
  },
  {
   "cell_type": "code",
   "execution_count": 16,
   "id": "e3b85ccd",
   "metadata": {},
   "outputs": [
    {
     "data": {
      "text/plain": [
       "<Figure size 720x432 with 0 Axes>"
      ]
     },
     "execution_count": 16,
     "metadata": {},
     "output_type": "execute_result"
    },
    {
     "data": {
      "text/plain": [
       "<AxesSubplot:xlabel='importance', ylabel='feature'>"
      ]
     },
     "execution_count": 16,
     "metadata": {},
     "output_type": "execute_result"
    },
    {
     "data": {
      "text/plain": [
       "Text(0.5, 1.0, 'Features importance (averaged/folds) ')"
      ]
     },
     "execution_count": 16,
     "metadata": {},
     "output_type": "execute_result"
    },
    {
     "name": "stderr",
     "output_type": "stream",
     "text": [
      "findfont: Font family ['IPAexGothic'] not found. Falling back to DejaVu Sans.\n",
      "findfont: Font family ['IPAexGothic'] not found. Falling back to DejaVu Sans.\n"
     ]
    },
    {
     "data": {
      "image/png": "[encoded data removed]",
      "text/plain": [
       "<Figure size 720x432 with 1 Axes>"
      ]
     },
     "metadata": {
      "needs_background": "light"
     },
     "output_type": "display_data"
    }
   ],
   "source": [
    "\n",
    "# print('[' + str(len(train_X.columns.values))+']')\n",
    "# print(train_X.columns.values)\n",
    "\n",
    "cols = (feature_importance_df[[\"feature\", \"importance\"]]\n",
    "        .groupby(\"feature\")\n",
    "        .mean()\n",
    "        .sort_values(by=\"importance\", ascending=False).index)\n",
    "best_features = feature_importance_df.loc[feature_importance_df.feature.isin(cols)]\n",
    "\n",
    "plt.figure(figsize=(10,6))\n",
    "sns.barplot(x=\"importance\", y=\"feature\", data=best_features.sort_values(by=\"importance\",ascending=False)[:30], color=\"#4c72b0\")\n",
    "plt.title('Features importance (averaged/folds) ')\n",
    "# plt.tight_layout()\n"
   ]
  },
  {
   "cell_type": "markdown",
   "id": "eb580523",
   "metadata": {},
   "source": [
    "## Save models"
   ]
  },
  {
   "cell_type": "code",
   "execution_count": 43,
   "id": "96540411",
   "metadata": {},
   "outputs": [],
   "source": [
    "# \t\tmodel = pickle.load(open(f\"./models/model_{fold_}.pkl\", \"rb\"))\n",
    "\n",
    "    \n",
    "train_X = pickle.load(open(f\"./models/tree_train_X.pkl\", \"rb\"))\n",
    "train_y = pickle.load(open(f\"./models/tree_train_y.pkl\", \"rb\"))"
   ]
  },
  {
   "cell_type": "markdown",
   "id": "a76eddfc",
   "metadata": {},
   "source": [
    "## Use saved models"
   ]
  },
  {
   "cell_type": "code",
   "execution_count": 44,
   "id": "3cd518e4",
   "metadata": {},
   "outputs": [
    {
     "name": "stdout",
     "output_type": "stream",
     "text": [
      "train_X:  (12578, 116)\n",
      "train_y:  (12578,)\n",
      "\n",
      " fold 0\n",
      "train_idx:  2518\n",
      "val_idx:  2515\n",
      "\n",
      "MAE:  9.226826538167717\n",
      "MSE:  363.23404789890577 \n",
      "\n",
      "Target - median(target):  47.94006095427435\n",
      "Target - mean(target):  49.97420256895209 \n",
      "\n",
      "29.82% of the predictions were 1% away from actual price\n",
      "45.96% of the predictions were 2% away from actual price\n",
      "58.37% of the predictions were 3% away from actual price\n",
      "\n",
      "\n",
      "\n",
      " fold 1\n",
      "train_idx:  5033\n",
      "val_idx:  2515\n",
      "\n",
      "MAE:  4.663635212465788\n",
      "MSE:  122.72245841414214 \n",
      "\n",
      "Target - median(target):  58.85415721669979\n",
      "Target - mean(target):  60.16530653689004 \n",
      "\n",
      "45.33% of the predictions were 1% away from actual price\n",
      "59.84% of the predictions were 2% away from actual price\n",
      "67.87% of the predictions were 3% away from actual price\n",
      "\n",
      "\n",
      "\n",
      " fold 2\n",
      "train_idx:  7548\n",
      "val_idx:  2515\n",
      "\n",
      "MAE:  13.580866396634816\n",
      "MSE:  1462.8227928960591 \n",
      "\n",
      "Target - median(target):  83.69465864811134\n",
      "Target - mean(target):  86.04353109639584 \n",
      "\n",
      "53.84% of the predictions were 1% away from actual price\n",
      "69.58% of the predictions were 2% away from actual price\n",
      "75.19% of the predictions were 3% away from actual price\n",
      "\n",
      "\n",
      "\n",
      " fold 3\n",
      "train_idx:  10063\n",
      "val_idx:  2515\n",
      "\n",
      "MAE:  54.872447332381036\n",
      "MSE:  30523.473255265304 \n",
      "\n",
      "Target - median(target):  164.12766779324056\n",
      "Target - mean(target):  181.12838791774237 \n",
      "\n",
      "56.78% of the predictions were 1% away from actual price\n",
      "74.04% of the predictions were 2% away from actual price\n",
      "79.92% of the predictions were 3% away from actual price\n",
      "\n",
      "\n",
      "Mean validation MAE:  20.585943869912338\n",
      "MAE when we setted all predictions to be the mean of target:  94.32785702999509 \n",
      "\n",
      "Mean validation MSE:  8118.063138618602\n",
      "MSE when we setted all predictions to be the mean of target:  23473.55120669118 \n",
      "\n",
      "\n",
      "46.4425 % of the predictions were 1% away from actual price in average (all folds)\n",
      "62.355000000000004 % of the predictions were 2% away from actual price in average (all folds)\n",
      "70.3375 % of the predictions were 3% away from actual price in average (all folds)\n"
     ]
    }
   ],
   "source": [
    "from sklearn.model_selection import TimeSeriesSplit\n",
    "from statistics import mean\n",
    "import pickle\n",
    "import lightgbm as lgb\n",
    "\n",
    "metric = 'l1'\n",
    "\n",
    "\n",
    "# Hyperparameters are tuned already\n",
    "params = {\n",
    "\t\t  'objective': 'regression_l1',\n",
    "\t\t  'num_leaves': 30,\n",
    "\t\t  'min_data_in_leaf': 20,\n",
    "\t\t  'max_depth': -1,\n",
    "\t\t  'learning_rate': 0.01,\n",
    "\t\t }\n",
    "\n",
    "\n",
    "\n",
    "\n",
    "oof = np.zeros(len(train_X))\n",
    "feature_importance_df = pd.DataFrame()\n",
    "\n",
    "percentage_lst = {k: [] for k in range(1, 4)}\n",
    "\n",
    "# Put mae of targets and the mean of targets. This becomes the criteria or standard of\n",
    "# judging whether the model performance is good.\n",
    "standard = {\"mae\": [] , \"mse\": []}\n",
    "\n",
    "acc = {\"mae\": [] , \"mse\": []}\n",
    "folds = TimeSeriesSplit(n_splits=4)\n",
    "\n",
    "\n",
    "print('train_X: ',train_X.shape)\n",
    "print('train_y: ',train_y.shape)\n",
    "\n",
    "#run model\n",
    "for fold_, (trn_idx, val_idx) in enumerate(folds.split(train_X, train_y)):\n",
    "    strLog = \"\\n fold {}\".format(fold_)\n",
    "    print(strLog)\n",
    "\n",
    "    # Output the size of train and validation set\n",
    "    print('train_idx: ',len(trn_idx))\n",
    "    print('val_idx: ',len(val_idx))\n",
    "\n",
    "    X_tr, X_val = train_X.iloc[trn_idx], train_X.iloc[val_idx]\n",
    "    y_tr, y_val = train_y.iloc[trn_idx], train_y.iloc[val_idx]\n",
    "\n",
    "\n",
    "# \t\tmodel = lgb.LGBMRegressor(**params, n_estimators=10000, importance_type='gain', n_jobs=-1)\n",
    "\n",
    "# \t\tmodel.fit(X_tr,\n",
    "# \t\t\t\t  y_tr,\n",
    "# \t\t\t\t  eval_set=[(X_tr,y_tr),(X_val, y_val)],\n",
    "# \t\t\t\t  verbose=1000,\n",
    "# \t\t\t\t  early_stopping_rounds=200\n",
    "# \t\t\t\t  )\n",
    "#         Load model\n",
    "    model = pickle.load(open(f\"./models/model_{fold_}.pkl\", \"rb\"))\n",
    "\n",
    "\n",
    "    preds = model.predict(X_val, num_iteration=model.best_iteration_)\n",
    "    oof[val_idx] += preds\n",
    "\n",
    "    print()\n",
    "    print(\"MAE: \", model.best_score_['valid_1'][metric])\n",
    "    print(\"MSE: \", mean_squared_error(preds, y_val), \"\\n\")\n",
    "\n",
    "    acc[\"mae\"].append(model.best_score_['valid_1'][metric])\n",
    "    acc[\"mse\"].append(mean_squared_error(preds, y_val))\n",
    "\n",
    "\n",
    "# \t\tprint(oof[val_idx])\n",
    "    medians = np.repeat(np.median(y_val), y_val.shape[0])\n",
    "    print(\"Target - median(target): \", mean_absolute_error(medians, y_val))\n",
    "\n",
    "    means = np.repeat(np.mean(y_val), y_val.shape[0])\n",
    "    print(\"Target - mean(target): \", mean_absolute_error(means, y_val), \"\\n\")\n",
    "\n",
    "    standard[\"mae\"].append(mean_absolute_error(means, y_val))\n",
    "    standard[\"mse\"].append(mean_squared_error(means, y_val))\n",
    "\n",
    "\n",
    "    percentages = [1,2,3]\n",
    "    total = len(y_val.values)\n",
    "\n",
    "    y_val.reset_index(drop=True, inplace=True)\n",
    "    y_val = y_val.values\n",
    "\n",
    "\n",
    "    for percent in percentages:\n",
    "        correct = 0\n",
    "\n",
    "        for i in range(len(y_val)):\n",
    "            upper = y_val[i] + (( percent / 100) * y_val[i] )\n",
    "            lower = y_val[i] - (( percent / 100) * y_val[i] )\n",
    "            if preds[i] < upper and preds[i] > lower:\n",
    "                correct = correct + 1\n",
    "            else:\n",
    "                pass\n",
    "\n",
    "        print(\"{}% of the predictions were {}% away from actual price\".format(round((correct/total)*100,2), percent))\n",
    "\n",
    "        percentage_lst[percent].append(round((correct/total)*100,2))\n",
    "\n",
    "    print(\"\\n\")\n",
    "\n",
    "    acc[\"mae\"].append(model.best_score_['valid_1'][metric])\n",
    "\n",
    "    #feature importance\n",
    "    fold_importance_df = pd.DataFrame()\n",
    "    fold_importance_df[\"feature\"] = train_X.columns.values\n",
    "    fold_importance_df[\"importance\"] = model.feature_importances_[:len(train_X.columns.values)]\n",
    "    fold_importance_df[\"fold\"] = fold_ + 1\n",
    "    feature_importance_df = pd.concat([feature_importance_df, fold_importance_df], axis=0)\n",
    "\n",
    "\n",
    "print(\"Mean validation MAE: \", mean(acc[\"mae\"]))\n",
    "print(\"MAE when we setted all predictions to be the mean of target: \", mean(standard[\"mae\"]), \"\\n\")\n",
    "\n",
    "print(\"Mean validation MSE: \", mean(acc[\"mse\"]))\n",
    "print(\"MSE when we setted all predictions to be the mean of target: \", mean(standard[\"mse\"]), \"\\n\")\n",
    "\n",
    "print()\n",
    "\n",
    "for key in percentage_lst.keys():\n",
    "    print(mean(percentage_lst[key]),  f\"% of the predictions were {key}% away from actual price in average (all folds)\")\n",
    "\n"
   ]
  },
  {
   "cell_type": "code",
   "execution_count": 37,
   "id": "9eaac59e",
   "metadata": {},
   "outputs": [
    {
     "data": {
      "text/plain": [
       "<Figure size 720x432 with 0 Axes>"
      ]
     },
     "execution_count": 37,
     "metadata": {},
     "output_type": "execute_result"
    },
    {
     "data": {
      "text/plain": [
       "<AxesSubplot:xlabel='importance', ylabel='feature'>"
      ]
     },
     "execution_count": 37,
     "metadata": {},
     "output_type": "execute_result"
    },
    {
     "data": {
      "text/plain": [
       "Text(0.5, 1.0, 'Features importance (averaged/folds) ')"
      ]
     },
     "execution_count": 37,
     "metadata": {},
     "output_type": "execute_result"
    },
    {
     "data": {
      "image/png": "[encoded data removed]",
      "text/plain": [
       "<Figure size 720x432 with 1 Axes>"
      ]
     },
     "metadata": {
      "needs_background": "light"
     },
     "output_type": "display_data"
    }
   ],
   "source": [
    "cols = (feature_importance_df[[\"feature\", \"importance\"]]\n",
    "        .groupby(\"feature\")\n",
    "        .mean()\n",
    "        .sort_values(by=\"importance\", ascending=False).index)\n",
    "best_features = feature_importance_df.loc[feature_importance_df.feature.isin(cols)]\n",
    "\n",
    "plt.figure(figsize=(10,6))\n",
    "sns.barplot(x=\"importance\", y=\"feature\", data=best_features.sort_values(by=\"importance\",ascending=False)[:30], color=\"#4c72b0\")\n",
    "plt.title('Features importance (averaged/folds) ')"
   ]
  },
  {
   "cell_type": "code",
   "execution_count": null,
   "id": "880665f5",
   "metadata": {},
   "outputs": [],
   "source": []
  },
  {
   "cell_type": "code",
   "execution_count": null,
   "id": "01b13485",
   "metadata": {},
   "outputs": [],
   "source": []
  },
  {
   "cell_type": "code",
   "execution_count": null,
   "id": "8082c29f",
   "metadata": {},
   "outputs": [],
   "source": [
    "fig, ax = plt.subplots(1, 1, figsize=(10,8))\n",
    "\n",
    "lgb.plot_importance(lgb_model, max_num_features=20, height=0.5, ax=ax)\n",
    "\n",
    "plt.title(\"Feature importance (importance type=gain)\", size=18)\n",
    "plt.ylabel(\"Features\", size=18)\n",
    "plt.xlabel(\"Feature importance\", size=18)\n",
    "\n",
    "plt.tick_params(axis='both', which='major', labelsize=16)\n"
   ]
  },
  {
   "cell_type": "code",
   "execution_count": null,
   "id": "141347e4",
   "metadata": {},
   "outputs": [],
   "source": [
    "# 先頭の決定木を可視化してみる\n",
    "rows = 2\n",
    "cols = 1\n",
    "# 表示する領域を準備する\n",
    "fig = plt.figure(figsize=(12, 6))\n",
    "# 一本ずつプロットしていく\n",
    "for i in range(rows * cols):\n",
    "    ax = fig.add_subplot(rows, cols, i + 1)\n",
    "    ax.set_title(f'Booster index: {i}')\n",
    "    lgb.plot_tree(booster=lgb_model,\n",
    "                    tree_index=i,\n",
    "                    show_info='internal_value',\n",
    "                    ax=ax,\n",
    "                    orientation=\"horizontal\"\n",
    "                    )\n",
    "    \n",
    "# fig.set_size_inches(50, 50)\n",
    "\n",
    "plt.show()\n",
    "\n",
    "graph = lgb.create_tree_digraph(lgb_model, tree_index=1, format='png', name='Tree', show_info=\"split_gain\")\n",
    "graph.render(view=True)\n",
    "\n"
   ]
  }
 ],
 "metadata": {
  "kernelspec": {
   "display_name": "Python 3",
   "language": "python",
   "name": "python3"
  },
  "language_info": {
   "codemirror_mode": {
    "name": "ipython",
    "version": 3
   },
   "file_extension": ".py",
   "mimetype": "text/x-python",
   "name": "python",
   "nbconvert_exporter": "python",
   "pygments_lexer": "ipython3",
   "version": "3.7.0"
  }
 },
 "nbformat": 4,
 "nbformat_minor": 5
}

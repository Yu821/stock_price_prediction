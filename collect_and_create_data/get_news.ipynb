{
 "cells": [
  {
   "cell_type": "markdown",
   "metadata": {},
   "source": [
    "# Import Libraries"
   ]
  },
  {
   "cell_type": "code",
   "execution_count": 132,
   "metadata": {},
   "outputs": [],
   "source": [
    "import pandas as pd\n",
    "import os\n",
    "import requests\n",
    "import psycopg2\n",
    "import psycopg2.extras\n",
    "import json"
   ]
  },
  {
   "cell_type": "markdown",
   "metadata": {},
   "source": [
    "# IEX API Credentials"
   ]
  },
  {
   "cell_type": "code",
   "execution_count": 184,
   "metadata": {},
   "outputs": [],
   "source": [
    "token = \"b085a46047088f6af5dc9733307c424e\"\n",
    "\n",
    "base_url = 'http://api.mediastack.com/v1/news'\n"
   ]
  },
  {
   "cell_type": "markdown",
   "metadata": {},
   "source": [
    "# Stocks To Collect Data On"
   ]
  },
  {
   "cell_type": "code",
   "execution_count": 185,
   "metadata": {},
   "outputs": [],
   "source": [
    "# Stocks to collect data on \n",
    "tickers= [\"AAPL, Apple\", \"FB, Facebook\"]\n",
    "          \n",
    "          #, \"ADBE, Adobe\", \"INTC, Intel\", \"PYPL, Paypal\", \n",
    "         # \"BABA, Alibaba\", \"QCOM, Qualcomm\", \"SHOP, Shopify\", \"AMD, Advanced Micro Devices\", \"MSFT, Microsoft\"]\n",
    "\n",
    "dates = [\"2019-01-01,2019-03-01\", \"2019-03-01,2019-06-01\", \"2019-03-01,2019-04-01\",\"2019-04-01,2019-05-01\",\n",
    "         \"2019-05-01,2019-06-01\",\"2019-06-01,2019-07-01\",\"2019-07-01,2019-08-01\",\"2019-08-01,2019-09-01\",\n",
    "        \"2019-09-01,2019-10-01\",\"2019-10-01,2019-11-01\",\"2019-11-01,2019-12-01\",\"2019-12-01,2020-01-01\",\n",
    "        \"2020-01-01,2020-02-01\",\"2020-02-01,2020-03-01\",\"2020-03-01,2020-04-01\",\"2020-04-01,2020-05-01\",\n",
    "         \"2020-05-01,2020-06-01\",\n",
    "        \"2020-06-01,2020-07-01\",\"2020-07-01,2020-08-01\",\"2020-08-01,2020-09-01\",\"2020-10-01,2020-11-01\",\n",
    "         \"2020-11-01,2020-12-01\"\n",
    "        \"2020-12-01,2021-01-01\",\"2021-01-01,2021-02-01\",\"2021-02-01,2021-03-01\",\"2021-03-01,2021-04-01\"]\n"
   ]
  },
  {
   "cell_type": "markdown",
   "metadata": {},
   "source": [
    "# Import Stock News Data"
   ]
  },
  {
   "cell_type": "code",
   "execution_count": 186,
   "metadata": {},
   "outputs": [],
   "source": [
    "# Retreive news for each stock for the past year\n",
    "\n",
    "news_requests = []\n",
    "\n",
    "for ticker in tickers:\n",
    "    for date in dates[0:1]:\n",
    "        \n",
    "        params = {'access_key': token,\n",
    "                  'keywords' : ticker,\n",
    "                  'date' : date,\n",
    "                  'limit' : 100,\n",
    "                  'sources': 'en'}\n",
    "    \n",
    "        r = requests.get(base_url, params=params)\n",
    "    \n",
    "        news_requests.append(r)\n",
    "\n"
   ]
  },
  {
   "cell_type": "markdown",
   "metadata": {},
   "source": [
    "# Store Stock News Data"
   ]
  },
  {
   "cell_type": "code",
   "execution_count": 188,
   "metadata": {},
   "outputs": [
    {
     "name": "stdout",
     "output_type": "stream",
     "text": [
      "{'error': {'code': 'validation_error', 'message': 'Request failed with validation error', 'context': {'keywords': ['This value is not valid.']}}}\n"
     ]
    }
   ],
   "source": [
    "print(news_requests[0].json())\n",
    "\n",
    "news_data = pd.DataFrame()\n",
    "\n",
    "for i in news_requests:\n",
    "    \n",
    "    if news_data.empty == True:\n",
    "        news_data = pd.DataFrame(i.json())\n",
    "    else:\n",
    "        mn = pd.DataFrame(i.json())\n",
    "        \n",
    "        news_data.append(mn, sort = True)"
   ]
  },
  {
   "cell_type": "code",
   "execution_count": 125,
   "metadata": {},
   "outputs": [
    {
     "data": {
      "text/html": [
       "<div>\n",
       "<style scoped>\n",
       "    .dataframe tbody tr th:only-of-type {\n",
       "        vertical-align: middle;\n",
       "    }\n",
       "\n",
       "    .dataframe tbody tr th {\n",
       "        vertical-align: top;\n",
       "    }\n",
       "\n",
       "    .dataframe thead th {\n",
       "        text-align: right;\n",
       "    }\n",
       "</style>\n",
       "<table border=\"1\" class=\"dataframe\">\n",
       "  <thead>\n",
       "    <tr style=\"text-align: right;\">\n",
       "      <th></th>\n",
       "      <th>service</th>\n",
       "      <th>routes</th>\n",
       "    </tr>\n",
       "  </thead>\n",
       "  <tbody>\n",
       "    <tr>\n",
       "      <th>0</th>\n",
       "      <td>mediastack</td>\n",
       "      <td>http://mediastack-api.internal.apilayer.net/</td>\n",
       "    </tr>\n",
       "    <tr>\n",
       "      <th>1</th>\n",
       "      <td>mediastack</td>\n",
       "      <td>http://mediastack-api.internal.apilayer.net/news</td>\n",
       "    </tr>\n",
       "    <tr>\n",
       "      <th>2</th>\n",
       "      <td>mediastack</td>\n",
       "      <td>http://mediastack-api.internal.apilayer.net/so...</td>\n",
       "    </tr>\n",
       "  </tbody>\n",
       "</table>\n",
       "</div>"
      ],
      "text/plain": [
       "      service                                             routes\n",
       "0  mediastack       http://mediastack-api.internal.apilayer.net/\n",
       "1  mediastack   http://mediastack-api.internal.apilayer.net/news\n",
       "2  mediastack  http://mediastack-api.internal.apilayer.net/so..."
      ]
     },
     "execution_count": 125,
     "metadata": {},
     "output_type": "execute_result"
    }
   ],
   "source": [
    "news_data.head()"
   ]
  },
  {
   "cell_type": "code",
   "execution_count": null,
   "metadata": {},
   "outputs": [],
   "source": [
    "# Store indexes in csv file\n",
    "    conn = None\n",
    "    try:\n",
    "        conn = psycopg2.connect(host=\"localhost\", database=\"postgres\", port=5432, user=\"postgres\", password=\"Aki12345+\")\n",
    "\n",
    "        command = \"INSERT INTO indexer (keys, value) VALUES (%s, %s);\"\n",
    "\n",
    "        cur = conn.cursor()\n",
    "        for key, value in index.items():\n",
    "            cur.execute(command, (str(key), str(value)))\n",
    "\n",
    "    except (Exception, psycopg2.DatabaseError):\n",
    "        print(\"Could not connect to database\")\n",
    "\n",
    "    finally:\n",
    "        if conn is not None:\n",
    "            conn.commit()\n",
    "            conn.close()\n",
    "            cur.close()"
   ]
  }
 ],
 "metadata": {
  "kernelspec": {
   "display_name": "Python 3",
   "language": "python",
   "name": "python3"
  },
  "language_info": {
   "codemirror_mode": {
    "name": "ipython",
    "version": 3
   },
   "file_extension": ".py",
   "mimetype": "text/x-python",
   "name": "python",
   "nbconvert_exporter": "python",
   "pygments_lexer": "ipython3",
   "version": "3.7.3"
  }
 },
 "nbformat": 4,
 "nbformat_minor": 2
}

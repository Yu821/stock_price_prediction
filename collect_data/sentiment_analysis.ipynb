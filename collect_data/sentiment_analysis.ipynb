{
 "cells": [
  {
   "cell_type": "markdown",
   "metadata": {},
   "source": [
    "# Sentiment Analysis of Stock/Market News"
   ]
  },
  {
   "cell_type": "markdown",
   "metadata": {},
   "source": [
    "For the purpose of classifying news as positive or negative (or neutral) we will use VADER.\n",
    "\n",
    "VADER (Valence Aware Dictionary and sEntiment Reasoner) is a lexicon and rule-based sentiment analysis tool that is specifically attuned to sentiments expressed in social media"
   ]
  },
  {
   "cell_type": "code",
   "execution_count": 56,
   "metadata": {},
   "outputs": [],
   "source": [
    "# Import libraries\n",
    "import pandas as pd\n",
    "from nltk.sentiment.vader import SentimentIntensityAnalyzer\n",
    "import psycopg2\n",
    "import psycopg2.extras\n"
   ]
  },
  {
   "cell_type": "code",
   "execution_count": 47,
   "metadata": {},
   "outputs": [],
   "source": [
    "# Import stock news data\n",
    "\n",
    "stock_news = pd.read_csv (r'C:\\Users\\imaia\\Desktop\\Stats170A\\Capstone\\stock_news_data.csv')\n"
   ]
  },
  {
   "cell_type": "code",
   "execution_count": 48,
   "metadata": {},
   "outputs": [
    {
     "data": {
      "text/html": [
       "<div>\n",
       "<style scoped>\n",
       "    .dataframe tbody tr th:only-of-type {\n",
       "        vertical-align: middle;\n",
       "    }\n",
       "\n",
       "    .dataframe tbody tr th {\n",
       "        vertical-align: top;\n",
       "    }\n",
       "\n",
       "    .dataframe thead th {\n",
       "        text-align: right;\n",
       "    }\n",
       "</style>\n",
       "<table border=\"1\" class=\"dataframe\">\n",
       "  <thead>\n",
       "    <tr style=\"text-align: right;\">\n",
       "      <th></th>\n",
       "      <th>headline</th>\n",
       "      <th>source</th>\n",
       "      <th>summary</th>\n",
       "      <th>url</th>\n",
       "      <th>date</th>\n",
       "    </tr>\n",
       "  </thead>\n",
       "  <tbody>\n",
       "    <tr>\n",
       "      <th>0</th>\n",
       "      <td>Dow Futures Soar as New York Begins Winning th...</td>\n",
       "      <td>ccn.com</td>\n",
       "      <td>NaN</td>\n",
       "      <td>https://www.ccn.com/dow-futures-soar-as-new-yo...</td>\n",
       "      <td>2020-04-06T05:41:20+00:00</td>\n",
       "    </tr>\n",
       "    <tr>\n",
       "      <th>1</th>\n",
       "      <td>Apple Snaps Up AI Startup Inductiv As Analysts...</td>\n",
       "      <td>smarteranalyst.com</td>\n",
       "      <td>NaN</td>\n",
       "      <td>https://www.smarteranalyst.com/yahoo/apple-sna...</td>\n",
       "      <td>2020-05-28T02:38:10+00:00</td>\n",
       "    </tr>\n",
       "    <tr>\n",
       "      <th>2</th>\n",
       "      <td>Gates Foundation Buys Up Amazon Apple Twitter ...</td>\n",
       "      <td>smarteranalyst.com</td>\n",
       "      <td>NaN</td>\n",
       "      <td>https://www.smarteranalyst.com/yahoo/gates-fou...</td>\n",
       "      <td>2020-05-25T11:02:06+00:00</td>\n",
       "    </tr>\n",
       "    <tr>\n",
       "      <th>3</th>\n",
       "      <td>Apple China Sales On Recovery Path In April iP...</td>\n",
       "      <td>smarteranalyst.com</td>\n",
       "      <td>NaN</td>\n",
       "      <td>https://www.smarteranalyst.com/yahoo/apple-chi...</td>\n",
       "      <td>2020-05-25T03:13:23+00:00</td>\n",
       "    </tr>\n",
       "    <tr>\n",
       "      <th>4</th>\n",
       "      <td>Intel Taiwan Semiconductor Said to Be in Talks...</td>\n",
       "      <td>smarteranalyst.com</td>\n",
       "      <td>NaN</td>\n",
       "      <td>http://www.smarteranalyst.com/uncategorized/in...</td>\n",
       "      <td>2020-05-13T05:13:13+00:00</td>\n",
       "    </tr>\n",
       "  </tbody>\n",
       "</table>\n",
       "</div>"
      ],
      "text/plain": [
       "                                            headline              source  \\\n",
       "0  Dow Futures Soar as New York Begins Winning th...             ccn.com   \n",
       "1  Apple Snaps Up AI Startup Inductiv As Analysts...  smarteranalyst.com   \n",
       "2  Gates Foundation Buys Up Amazon Apple Twitter ...  smarteranalyst.com   \n",
       "3  Apple China Sales On Recovery Path In April iP...  smarteranalyst.com   \n",
       "4  Intel Taiwan Semiconductor Said to Be in Talks...  smarteranalyst.com   \n",
       "\n",
       "   summary                                                url  \\\n",
       "0      NaN  https://www.ccn.com/dow-futures-soar-as-new-yo...   \n",
       "1      NaN  https://www.smarteranalyst.com/yahoo/apple-sna...   \n",
       "2      NaN  https://www.smarteranalyst.com/yahoo/gates-fou...   \n",
       "3      NaN  https://www.smarteranalyst.com/yahoo/apple-chi...   \n",
       "4      NaN  http://www.smarteranalyst.com/uncategorized/in...   \n",
       "\n",
       "                        date  \n",
       "0  2020-04-06T05:41:20+00:00  \n",
       "1  2020-05-28T02:38:10+00:00  \n",
       "2  2020-05-25T11:02:06+00:00  \n",
       "3  2020-05-25T03:13:23+00:00  \n",
       "4  2020-05-13T05:13:13+00:00  "
      ]
     },
     "execution_count": 48,
     "metadata": {},
     "output_type": "execute_result"
    }
   ],
   "source": [
    "stock_news.head()"
   ]
  },
  {
   "cell_type": "code",
   "execution_count": 49,
   "metadata": {},
   "outputs": [
    {
     "data": {
      "text/plain": [
       "(8267, 5)"
      ]
     },
     "execution_count": 49,
     "metadata": {},
     "output_type": "execute_result"
    }
   ],
   "source": [
    "stock_news.shape"
   ]
  },
  {
   "cell_type": "code",
   "execution_count": 50,
   "metadata": {},
   "outputs": [],
   "source": [
    "# Sentiment Analysis of Stock News\n",
    "analyzer = SentimentIntensityAnalyzer()\n",
    "\n",
    "scores = []\n",
    "\n",
    "for i in stock_news['headline']:\n",
    "    \n",
    "    init_scores = analyzer.polarity_scores(str(i))\n",
    "    scores.append(init_scores['compound'])\n",
    "\n",
    "df_scores = pd.DataFrame(scores)\n",
    "\n",
    "stock_news = stock_news.join(df_scores, rsuffix='_right')\n"
   ]
  },
  {
   "cell_type": "code",
   "execution_count": 51,
   "metadata": {},
   "outputs": [
    {
     "data": {
      "text/html": [
       "<div>\n",
       "<style scoped>\n",
       "    .dataframe tbody tr th:only-of-type {\n",
       "        vertical-align: middle;\n",
       "    }\n",
       "\n",
       "    .dataframe tbody tr th {\n",
       "        vertical-align: top;\n",
       "    }\n",
       "\n",
       "    .dataframe thead th {\n",
       "        text-align: right;\n",
       "    }\n",
       "</style>\n",
       "<table border=\"1\" class=\"dataframe\">\n",
       "  <thead>\n",
       "    <tr style=\"text-align: right;\">\n",
       "      <th></th>\n",
       "      <th>headline</th>\n",
       "      <th>source</th>\n",
       "      <th>summary</th>\n",
       "      <th>url</th>\n",
       "      <th>date</th>\n",
       "      <th>0</th>\n",
       "    </tr>\n",
       "  </thead>\n",
       "  <tbody>\n",
       "    <tr>\n",
       "      <th>0</th>\n",
       "      <td>Dow Futures Soar as New York Begins Winning th...</td>\n",
       "      <td>ccn.com</td>\n",
       "      <td>NaN</td>\n",
       "      <td>https://www.ccn.com/dow-futures-soar-as-new-yo...</td>\n",
       "      <td>2020-04-06T05:41:20+00:00</td>\n",
       "      <td>-0.1280</td>\n",
       "    </tr>\n",
       "    <tr>\n",
       "      <th>1</th>\n",
       "      <td>Apple Snaps Up AI Startup Inductiv As Analysts...</td>\n",
       "      <td>smarteranalyst.com</td>\n",
       "      <td>NaN</td>\n",
       "      <td>https://www.smarteranalyst.com/yahoo/apple-sna...</td>\n",
       "      <td>2020-05-28T02:38:10+00:00</td>\n",
       "      <td>0.4019</td>\n",
       "    </tr>\n",
       "    <tr>\n",
       "      <th>2</th>\n",
       "      <td>Gates Foundation Buys Up Amazon Apple Twitter ...</td>\n",
       "      <td>smarteranalyst.com</td>\n",
       "      <td>NaN</td>\n",
       "      <td>https://www.smarteranalyst.com/yahoo/gates-fou...</td>\n",
       "      <td>2020-05-25T11:02:06+00:00</td>\n",
       "      <td>0.1779</td>\n",
       "    </tr>\n",
       "    <tr>\n",
       "      <th>3</th>\n",
       "      <td>Apple China Sales On Recovery Path In April iP...</td>\n",
       "      <td>smarteranalyst.com</td>\n",
       "      <td>NaN</td>\n",
       "      <td>https://www.smarteranalyst.com/yahoo/apple-chi...</td>\n",
       "      <td>2020-05-25T03:13:23+00:00</td>\n",
       "      <td>0.0000</td>\n",
       "    </tr>\n",
       "    <tr>\n",
       "      <th>4</th>\n",
       "      <td>Intel Taiwan Semiconductor Said to Be in Talks...</td>\n",
       "      <td>smarteranalyst.com</td>\n",
       "      <td>NaN</td>\n",
       "      <td>http://www.smarteranalyst.com/uncategorized/in...</td>\n",
       "      <td>2020-05-13T05:13:13+00:00</td>\n",
       "      <td>0.0000</td>\n",
       "    </tr>\n",
       "  </tbody>\n",
       "</table>\n",
       "</div>"
      ],
      "text/plain": [
       "                                            headline              source  \\\n",
       "0  Dow Futures Soar as New York Begins Winning th...             ccn.com   \n",
       "1  Apple Snaps Up AI Startup Inductiv As Analysts...  smarteranalyst.com   \n",
       "2  Gates Foundation Buys Up Amazon Apple Twitter ...  smarteranalyst.com   \n",
       "3  Apple China Sales On Recovery Path In April iP...  smarteranalyst.com   \n",
       "4  Intel Taiwan Semiconductor Said to Be in Talks...  smarteranalyst.com   \n",
       "\n",
       "   summary                                                url  \\\n",
       "0      NaN  https://www.ccn.com/dow-futures-soar-as-new-yo...   \n",
       "1      NaN  https://www.smarteranalyst.com/yahoo/apple-sna...   \n",
       "2      NaN  https://www.smarteranalyst.com/yahoo/gates-fou...   \n",
       "3      NaN  https://www.smarteranalyst.com/yahoo/apple-chi...   \n",
       "4      NaN  http://www.smarteranalyst.com/uncategorized/in...   \n",
       "\n",
       "                        date       0  \n",
       "0  2020-04-06T05:41:20+00:00 -0.1280  \n",
       "1  2020-05-28T02:38:10+00:00  0.4019  \n",
       "2  2020-05-25T11:02:06+00:00  0.1779  \n",
       "3  2020-05-25T03:13:23+00:00  0.0000  \n",
       "4  2020-05-13T05:13:13+00:00  0.0000  "
      ]
     },
     "execution_count": 51,
     "metadata": {},
     "output_type": "execute_result"
    }
   ],
   "source": [
    "stock_news.head()"
   ]
  },
  {
   "cell_type": "code",
   "execution_count": 52,
   "metadata": {},
   "outputs": [],
   "source": [
    "stock_news = stock_news.drop(['summary'], axis = 1)\n",
    "stock_news.columns = ['headline', 'source', 'url', 'date', 'score']"
   ]
  },
  {
   "cell_type": "code",
   "execution_count": 53,
   "metadata": {},
   "outputs": [],
   "source": [
    "stock_news['date'] = stock_news['date'].astype(str).str[0:10]"
   ]
  },
  {
   "cell_type": "code",
   "execution_count": 54,
   "metadata": {},
   "outputs": [
    {
     "data": {
      "text/html": [
       "<div>\n",
       "<style scoped>\n",
       "    .dataframe tbody tr th:only-of-type {\n",
       "        vertical-align: middle;\n",
       "    }\n",
       "\n",
       "    .dataframe tbody tr th {\n",
       "        vertical-align: top;\n",
       "    }\n",
       "\n",
       "    .dataframe thead th {\n",
       "        text-align: right;\n",
       "    }\n",
       "</style>\n",
       "<table border=\"1\" class=\"dataframe\">\n",
       "  <thead>\n",
       "    <tr style=\"text-align: right;\">\n",
       "      <th></th>\n",
       "      <th>headline</th>\n",
       "      <th>source</th>\n",
       "      <th>url</th>\n",
       "      <th>date</th>\n",
       "      <th>score</th>\n",
       "    </tr>\n",
       "  </thead>\n",
       "  <tbody>\n",
       "    <tr>\n",
       "      <th>0</th>\n",
       "      <td>Dow Futures Soar as New York Begins Winning th...</td>\n",
       "      <td>ccn.com</td>\n",
       "      <td>https://www.ccn.com/dow-futures-soar-as-new-yo...</td>\n",
       "      <td>2020-04-06</td>\n",
       "      <td>-0.1280</td>\n",
       "    </tr>\n",
       "    <tr>\n",
       "      <th>1</th>\n",
       "      <td>Apple Snaps Up AI Startup Inductiv As Analysts...</td>\n",
       "      <td>smarteranalyst.com</td>\n",
       "      <td>https://www.smarteranalyst.com/yahoo/apple-sna...</td>\n",
       "      <td>2020-05-28</td>\n",
       "      <td>0.4019</td>\n",
       "    </tr>\n",
       "    <tr>\n",
       "      <th>2</th>\n",
       "      <td>Gates Foundation Buys Up Amazon Apple Twitter ...</td>\n",
       "      <td>smarteranalyst.com</td>\n",
       "      <td>https://www.smarteranalyst.com/yahoo/gates-fou...</td>\n",
       "      <td>2020-05-25</td>\n",
       "      <td>0.1779</td>\n",
       "    </tr>\n",
       "    <tr>\n",
       "      <th>3</th>\n",
       "      <td>Apple China Sales On Recovery Path In April iP...</td>\n",
       "      <td>smarteranalyst.com</td>\n",
       "      <td>https://www.smarteranalyst.com/yahoo/apple-chi...</td>\n",
       "      <td>2020-05-25</td>\n",
       "      <td>0.0000</td>\n",
       "    </tr>\n",
       "    <tr>\n",
       "      <th>4</th>\n",
       "      <td>Intel Taiwan Semiconductor Said to Be in Talks...</td>\n",
       "      <td>smarteranalyst.com</td>\n",
       "      <td>http://www.smarteranalyst.com/uncategorized/in...</td>\n",
       "      <td>2020-05-13</td>\n",
       "      <td>0.0000</td>\n",
       "    </tr>\n",
       "  </tbody>\n",
       "</table>\n",
       "</div>"
      ],
      "text/plain": [
       "                                            headline              source  \\\n",
       "0  Dow Futures Soar as New York Begins Winning th...             ccn.com   \n",
       "1  Apple Snaps Up AI Startup Inductiv As Analysts...  smarteranalyst.com   \n",
       "2  Gates Foundation Buys Up Amazon Apple Twitter ...  smarteranalyst.com   \n",
       "3  Apple China Sales On Recovery Path In April iP...  smarteranalyst.com   \n",
       "4  Intel Taiwan Semiconductor Said to Be in Talks...  smarteranalyst.com   \n",
       "\n",
       "                                                 url        date   score  \n",
       "0  https://www.ccn.com/dow-futures-soar-as-new-yo...  2020-04-06 -0.1280  \n",
       "1  https://www.smarteranalyst.com/yahoo/apple-sna...  2020-05-28  0.4019  \n",
       "2  https://www.smarteranalyst.com/yahoo/gates-fou...  2020-05-25  0.1779  \n",
       "3  https://www.smarteranalyst.com/yahoo/apple-chi...  2020-05-25  0.0000  \n",
       "4  http://www.smarteranalyst.com/uncategorized/in...  2020-05-13  0.0000  "
      ]
     },
     "execution_count": 54,
     "metadata": {},
     "output_type": "execute_result"
    }
   ],
   "source": [
    "stock_news.head()"
   ]
  },
  {
   "cell_type": "code",
   "execution_count": 60,
   "metadata": {},
   "outputs": [],
   "source": [
    "# Store stock news data in PostgreSQL database\n",
    "conn = None\n",
    "\n",
    "try:\n",
    "    conn = psycopg2.connect(host=\"localhost\", database=\"postgres\", port=5432, user=\"postgres\", password=\"Aki12345+\")\n",
    "\n",
    "    command = \"INSERT INTO stock_news (headline, source, url, date, score) \\\n",
    "    VALUES (%s, %s, %s, %s, %s);\"\n",
    "\n",
    "    cur = conn.cursor()\n",
    "    for index, row in stock_news.iterrows():\n",
    "        cur.execute(command, (str(row['headline']),str(row['source']),\n",
    "                              str(row['url']), str(row['date']), float(row['score'])))\n",
    "\n",
    "except (Exception, psycopg2.DatabaseError):\n",
    "    print(\"Could not connect to database\")\n",
    "\n",
    "finally:\n",
    "    if conn is not None:\n",
    "        conn.commit()\n",
    "        conn.close()\n",
    "        cur.close()"
   ]
  },
  {
   "cell_type": "code",
   "execution_count": null,
   "metadata": {},
   "outputs": [],
   "source": []
  }
 ],
 "metadata": {
  "kernelspec": {
   "display_name": "Python 3",
   "language": "python",
   "name": "python3"
  },
  "language_info": {
   "codemirror_mode": {
    "name": "ipython",
    "version": 3
   },
   "file_extension": ".py",
   "mimetype": "text/x-python",
   "name": "python",
   "nbconvert_exporter": "python",
   "pygments_lexer": "ipython3",
   "version": "3.7.3"
  }
 },
 "nbformat": 4,
 "nbformat_minor": 2
}

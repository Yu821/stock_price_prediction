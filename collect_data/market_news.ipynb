{
 "cells": [
  {
   "cell_type": "code",
   "execution_count": 2,
   "metadata": {},
   "outputs": [],
   "source": [
    "# Import Libraries\n",
    "\n",
    "import pandas as pd\n",
    "import os\n",
    "import requests\n",
    "import psycopg2\n",
    "import psycopg2.extras\n",
    "import json\n",
    "import datanews\n",
    "import time"
   ]
  },
  {
   "cell_type": "code",
   "execution_count": 3,
   "metadata": {},
   "outputs": [],
   "source": [
    "# Datanews API Credentials\n",
    "\n",
    "api_key = \"0fdlbukyla9uenffppsig1faq\"\n"
   ]
  },
  {
   "cell_type": "code",
   "execution_count": 4,
   "metadata": {},
   "outputs": [],
   "source": [
    "# Dates we will collect news for the general market\n",
    "\n",
    "from_dates = [\"2020-04-01\", \"2020-05-01\",\"2020-06-01\",\"2020-07-01\",\"2020-08-01\",\"2020-09-01\",\"2020-10-01\",\n",
    "             \"2020-11-01\",\"2020-12-01\",\"2021-01-01\",\"2021-02-01\",\"2021-03-01\"]\n",
    "\n",
    "to_dates = [\"2020-05-01\",\"2020-06-01\",\"2020-07-01\",\"2020-08-01\",\"2020-09-01\",\"2020-10-01\",\"2020-11-01\",\n",
    "            \"2020-12-01\",\"2021-01-01\",\"2021-02-01\",\"2021-03-01\", \"2021-04-01\"]\n"
   ]
  },
  {
   "cell_type": "code",
   "execution_count": 5,
   "metadata": {},
   "outputs": [],
   "source": [
    "# Retreive news for each stock for the past year in increments of months\n",
    "\n",
    "news_requests = []\n",
    "\n",
    "for i in range(len(to_dates)):\n",
    "    params = {'apiKey': api_key,\n",
    "              'q': \"stock market\",\n",
    "              'from': from_dates[i],\n",
    "              'to': to_dates[i],\n",
    "              'language': 'en',\n",
    "              'size': 100}\n",
    "\n",
    "    r = requests.get(\"http://api.datanews.io/v1/news\", params=params)\n",
    "\n",
    "    news_requests.append(r)\n",
    "\n",
    "    time.sleep(3)\n",
    "\n"
   ]
  },
  {
   "cell_type": "code",
   "execution_count": 6,
   "metadata": {},
   "outputs": [],
   "source": [
    "# Store news in a dataframe\n",
    "\n",
    "news_data = pd.DataFrame()\n",
    "\n",
    "for i in news_requests:\n",
    "    \n",
    "    if news_data.empty == True:\n",
    "        news_data = pd.DataFrame(i.json()['hits'])\n",
    "    else:\n",
    "        try:\n",
    "            mn = pd.DataFrame(i.json()['hits'])\n",
    "        except:\n",
    "            pass\n",
    "        \n",
    "        news_data = news_data.append(mn)"
   ]
  },
  {
   "cell_type": "code",
   "execution_count": 7,
   "metadata": {},
   "outputs": [
    {
     "data": {
      "text/plain": [
       "(1200, 10)"
      ]
     },
     "execution_count": 7,
     "metadata": {},
     "output_type": "execute_result"
    }
   ],
   "source": [
    "news_data.shape"
   ]
  },
  {
   "cell_type": "code",
   "execution_count": 8,
   "metadata": {},
   "outputs": [
    {
     "data": {
      "text/plain": [
       "(1168, 10)"
      ]
     },
     "execution_count": 8,
     "metadata": {},
     "output_type": "execute_result"
    }
   ],
   "source": [
    "# remove any rows with null values\n",
    "news_data = news_data.dropna(how='any',axis=0) \n",
    "news_data.shape"
   ]
  },
  {
   "cell_type": "code",
   "execution_count": 9,
   "metadata": {},
   "outputs": [
    {
     "data": {
      "text/html": [
       "<div>\n",
       "<style scoped>\n",
       "    .dataframe tbody tr th:only-of-type {\n",
       "        vertical-align: middle;\n",
       "    }\n",
       "\n",
       "    .dataframe tbody tr th {\n",
       "        vertical-align: top;\n",
       "    }\n",
       "\n",
       "    .dataframe thead th {\n",
       "        text-align: right;\n",
       "    }\n",
       "</style>\n",
       "<table border=\"1\" class=\"dataframe\">\n",
       "  <thead>\n",
       "    <tr style=\"text-align: right;\">\n",
       "      <th></th>\n",
       "      <th>url</th>\n",
       "      <th>source</th>\n",
       "      <th>authors</th>\n",
       "      <th>title</th>\n",
       "      <th>pubDate</th>\n",
       "      <th>country</th>\n",
       "      <th>language</th>\n",
       "      <th>description</th>\n",
       "      <th>imageUrl</th>\n",
       "      <th>content</th>\n",
       "    </tr>\n",
       "  </thead>\n",
       "  <tbody>\n",
       "    <tr>\n",
       "      <th>0</th>\n",
       "      <td>https://www.ccn.com/this-coronavirus-insurance...</td>\n",
       "      <td>ccn.com</td>\n",
       "      <td>[]</td>\n",
       "      <td>This Coronavirus Insurance Bill Could Crash th...</td>\n",
       "      <td>2020-04-06T13:26:55+00:00</td>\n",
       "      <td>us</td>\n",
       "      <td>en</td>\n",
       "      <td>Congress is examining a coronavirus insurance ...</td>\n",
       "      <td>https://www.ccn.com/wp-content/uploads/2020/04...</td>\n",
       "      <td>\\n• Congress is considering a Pandemic Risk In...</td>\n",
       "    </tr>\n",
       "    <tr>\n",
       "      <th>1</th>\n",
       "      <td>https://www.ccn.com/chinas-scary-coronavirus-w...</td>\n",
       "      <td>ccn.com</td>\n",
       "      <td>[]</td>\n",
       "      <td>China's Scary Coronavirus Warning Risks Epic S...</td>\n",
       "      <td>2020-04-28T07:40:02+00:00</td>\n",
       "      <td>us</td>\n",
       "      <td>en</td>\n",
       "      <td>The U.S. stock market saw a 14 percent recover...</td>\n",
       "      <td>https://www.ccn.com/wp-content/uploads/2020/04...</td>\n",
       "      <td>\\n• Top scientists in China claim coronavirus ...</td>\n",
       "    </tr>\n",
       "    <tr>\n",
       "      <th>2</th>\n",
       "      <td>http://www.smarteranalyst.com/analyst-insights...</td>\n",
       "      <td>smarteranalyst.com</td>\n",
       "      <td>[Ben Mahaney, Editor]</td>\n",
       "      <td>Is Coca-Cola Stock the Real Deal?</td>\n",
       "      <td>2020-04-15T06:15:01+00:00</td>\n",
       "      <td></td>\n",
       "      <td>en</td>\n",
       "      <td>Like most stocks in this market, Coca-Cola Com...</td>\n",
       "      <td>https://www.smarteranalyst.com/wp-content/uplo...</td>\n",
       "      <td>Like most stocks in this market, Coca-Cola Com...</td>\n",
       "    </tr>\n",
       "    <tr>\n",
       "      <th>3</th>\n",
       "      <td>https://marketrealist.com/2020/04/is-axp-stock...</td>\n",
       "      <td>marketrealist.com</td>\n",
       "      <td>[Ambrish Shah]</td>\n",
       "      <td>Is AXP Stock a ‘Sell’ after Its Q1 Earnings?</td>\n",
       "      <td>2020-04-27T12:01:16+00:00</td>\n",
       "      <td></td>\n",
       "      <td>en</td>\n",
       "      <td>Today at 7:02 AM ET, AXP stock rose 1.1% to $8...</td>\n",
       "      <td>https://media.marketrealist.com/brand-img/FGgX...</td>\n",
       "      <td>American Express stock rose 0.86% on April 24 ...</td>\n",
       "    </tr>\n",
       "    <tr>\n",
       "      <th>4</th>\n",
       "      <td>https://www.ajc.com/news/state--regional-govt-...</td>\n",
       "      <td>ajc.com</td>\n",
       "      <td>[Tia Mitchell, Chris Joyner]</td>\n",
       "      <td>Loeffler reports more stock sales, denies wron...</td>\n",
       "      <td>2020-04-06T21:27:18+00:00</td>\n",
       "      <td>us</td>\n",
       "      <td>en</td>\n",
       "      <td>Loeffler reports more stock sales, denies wron...</td>\n",
       "      <td>https://www.ajc.com/resizer/nuSPA3uLGiA84c4fOT...</td>\n",
       "      <td>Loeffler and her staff have said she did nothi...</td>\n",
       "    </tr>\n",
       "  </tbody>\n",
       "</table>\n",
       "</div>"
      ],
      "text/plain": [
       "                                                 url              source  \\\n",
       "0  https://www.ccn.com/this-coronavirus-insurance...             ccn.com   \n",
       "1  https://www.ccn.com/chinas-scary-coronavirus-w...             ccn.com   \n",
       "2  http://www.smarteranalyst.com/analyst-insights...  smarteranalyst.com   \n",
       "3  https://marketrealist.com/2020/04/is-axp-stock...   marketrealist.com   \n",
       "4  https://www.ajc.com/news/state--regional-govt-...             ajc.com   \n",
       "\n",
       "                        authors  \\\n",
       "0                            []   \n",
       "1                            []   \n",
       "2         [Ben Mahaney, Editor]   \n",
       "3                [Ambrish Shah]   \n",
       "4  [Tia Mitchell, Chris Joyner]   \n",
       "\n",
       "                                               title  \\\n",
       "0  This Coronavirus Insurance Bill Could Crash th...   \n",
       "1  China's Scary Coronavirus Warning Risks Epic S...   \n",
       "2                  Is Coca-Cola Stock the Real Deal?   \n",
       "3       Is AXP Stock a ‘Sell’ after Its Q1 Earnings?   \n",
       "4  Loeffler reports more stock sales, denies wron...   \n",
       "\n",
       "                     pubDate country language  \\\n",
       "0  2020-04-06T13:26:55+00:00      us       en   \n",
       "1  2020-04-28T07:40:02+00:00      us       en   \n",
       "2  2020-04-15T06:15:01+00:00               en   \n",
       "3  2020-04-27T12:01:16+00:00               en   \n",
       "4  2020-04-06T21:27:18+00:00      us       en   \n",
       "\n",
       "                                         description  \\\n",
       "0  Congress is examining a coronavirus insurance ...   \n",
       "1  The U.S. stock market saw a 14 percent recover...   \n",
       "2  Like most stocks in this market, Coca-Cola Com...   \n",
       "3  Today at 7:02 AM ET, AXP stock rose 1.1% to $8...   \n",
       "4  Loeffler reports more stock sales, denies wron...   \n",
       "\n",
       "                                            imageUrl  \\\n",
       "0  https://www.ccn.com/wp-content/uploads/2020/04...   \n",
       "1  https://www.ccn.com/wp-content/uploads/2020/04...   \n",
       "2  https://www.smarteranalyst.com/wp-content/uplo...   \n",
       "3  https://media.marketrealist.com/brand-img/FGgX...   \n",
       "4  https://www.ajc.com/resizer/nuSPA3uLGiA84c4fOT...   \n",
       "\n",
       "                                             content  \n",
       "0  \\n• Congress is considering a Pandemic Risk In...  \n",
       "1  \\n• Top scientists in China claim coronavirus ...  \n",
       "2  Like most stocks in this market, Coca-Cola Com...  \n",
       "3  American Express stock rose 0.86% on April 24 ...  \n",
       "4  Loeffler and her staff have said she did nothi...  "
      ]
     },
     "execution_count": 9,
     "metadata": {},
     "output_type": "execute_result"
    }
   ],
   "source": [
    "news_data.head()"
   ]
  },
  {
   "cell_type": "code",
   "execution_count": 10,
   "metadata": {},
   "outputs": [],
   "source": [
    "# Replace all comas with spaces, since exporting to csv was generating wrong with comas included\n",
    "news_data['url'] = news_data['url'].replace(',','', regex=True)\n",
    "news_data['source'] = news_data['source'].replace(',','', regex=True)\n",
    "news_data['title'] = news_data['title'].replace(',','', regex=True)\n"
   ]
  },
  {
   "cell_type": "code",
   "execution_count": 11,
   "metadata": {},
   "outputs": [],
   "source": [
    "# Store market news data in PostgreSQL database\n",
    "\n",
    "conn = None\n",
    "\n",
    "try:\n",
    "    conn = psycopg2.connect(host=\"localhost\", database=\"postgres\", port=5432, user=\"postgres\", password=\"Aki12345+\")\n",
    "\n",
    "    command = \"INSERT INTO market_news (headline, source, url, date) \\\n",
    "    VALUES (%s, %s, %s, %s);\"\n",
    "\n",
    "    cur = conn.cursor()\n",
    "    for index, row in news_data.iterrows():\n",
    "        cur.execute(command, (str(row['title']),str(row['source']),\n",
    "                              str(row['url']), str(row['pubDate'])))\n",
    "\n",
    "except (Exception, psycopg2.DatabaseError):\n",
    "    print(\"Could not connect to database\")\n",
    "\n",
    "finally:\n",
    "    if conn is not None:\n",
    "        conn.commit()\n",
    "        conn.close()\n",
    "        cur.close()"
   ]
  },
  {
   "cell_type": "code",
   "execution_count": null,
   "metadata": {},
   "outputs": [],
   "source": []
  }
 ],
 "metadata": {
  "kernelspec": {
   "display_name": "Python 3",
   "language": "python",
   "name": "python3"
  },
  "language_info": {
   "codemirror_mode": {
    "name": "ipython",
    "version": 3
   },
   "file_extension": ".py",
   "mimetype": "text/x-python",
   "name": "python",
   "nbconvert_exporter": "python",
   "pygments_lexer": "ipython3",
   "version": "3.7.3"
  }
 },
 "nbformat": 4,
 "nbformat_minor": 2
}

{
 "cells": [
  {
   "cell_type": "markdown",
   "metadata": {},
   "source": [
    "# Import Libraries"
   ]
  },
  {
   "cell_type": "code",
   "execution_count": 1,
   "metadata": {},
   "outputs": [
    {
     "name": "stderr",
     "output_type": "stream",
     "text": [
      "C:\\Users\\imaia\\Anaconda3\\lib\\site-packages\\requests\\__init__.py:91: RequestsDependencyWarning: urllib3 (1.26.3) or chardet (4.0.0) doesn't match a supported version!\n",
      "  RequestsDependencyWarning)\n"
     ]
    }
   ],
   "source": [
    "import pandas as pd\n",
    "import os\n",
    "import requests\n",
    "import psycopg2\n",
    "import psycopg2.extras\n",
    "import json\n",
    "import datanews\n",
    "import time"
   ]
  },
  {
   "cell_type": "code",
   "execution_count": 44,
   "metadata": {},
   "outputs": [],
   "source": [
    "# Datanews API Credentials\n",
    "\n",
    "api_key = \"0fdlbukyla9uenffppsig1faq\"\n"
   ]
  },
  {
   "cell_type": "code",
   "execution_count": 109,
   "metadata": {},
   "outputs": [],
   "source": [
    "# Stocks we will collect data on \n",
    "tickers= [\"AAPL\", \"FB\", \"ADBE\", \"INTC\", \"PYPL\", \"BABA\", \"QCOM\", \"SHOP\", \"AMD\", \"MSFT\"]\n",
    "\n",
    "# Dates we will collect news for each stock\n",
    "from_dates = [\"2020-04-01\", \"2020-05-01\",\"2020-06-01\",\"2020-07-01\",\"2020-08-01\",\"2020-09-01\",\"2020-10-01\",\n",
    "             \"2020-11-01\",\"2020-12-01\",\"2021-01-01\",\"2021-02-01\",\"2021-03-01\"]\n",
    "\n",
    "to_dates = [\"2020-05-01\",\"2020-06-01\",\"2020-07-01\",\"2020-08-01\",\"2020-09-01\",\"2020-10-01\",\"2020-11-01\",\n",
    "            \"2020-12-01\",\"2021-01-01\",\"2021-02-01\",\"2021-03-01\", \"2021-04-01\"]"
   ]
  },
  {
   "cell_type": "code",
   "execution_count": 67,
   "metadata": {},
   "outputs": [],
   "source": [
    "# Retreive news for each stock for the past year in increments of months\n",
    "\n",
    "news_requests = []\n",
    "\n",
    "for ticker in tickers:\n",
    "    for i in range(len(to_dates)):\n",
    "        params = {'apiKey': api_key,\n",
    "                  'q': ticker,\n",
    "                  'from': from_dates[i],\n",
    "                  'to': to_dates[i],\n",
    "                  'language': 'en',\n",
    "                  'size': 100}\n",
    "\n",
    "        r = requests.get(\"http://api.datanews.io/v1/news\", params=params)\n",
    "\n",
    "        news_requests.append(r)\n",
    "        \n",
    "        time.sleep(3)\n",
    "\n"
   ]
  },
  {
   "cell_type": "code",
   "execution_count": 63,
   "metadata": {},
   "outputs": [
    {
     "name": "stdout",
     "output_type": "stream",
     "text": [
      "[{'url': 'https://www.ccn.com/dow-futures-soar-as-new-york-begins-winning-the-coronavirus-war/', 'source': 'ccn.com', 'authors': [], 'title': 'Dow Futures Soar as New York Begins Winning the Coronavirus War', 'pubDate': '2020-04-06T05:41:20+00:00', 'country': 'us', 'language': 'en', 'description': 'Dow futures surged 700 points as stock market bulls finally get some positive news about the coronavirus as N.Y. data shows a peak is near.', 'imageUrl': 'https://www.ccn.com/wp-content/uploads/2020/04/New-York-NTB-Coronavirus.jpg', 'content': '\\n• Dow Futures soared overnight as data in Europe and New York suggests the peak of the coronavirus outbreak is now within reach.\\n• Governor Andrew Cuomo also noted a huge portion of cases have been de-hospitalized.\\n• The Dow Jones is not in the clea ... [+4212 chars]'}]\n"
     ]
    }
   ],
   "source": [
    "print((news_requests[0].json()['hits']))"
   ]
  },
  {
   "cell_type": "code",
   "execution_count": 100,
   "metadata": {},
   "outputs": [],
   "source": [
    "# Store news in a dataframe\n",
    "\n",
    "news_data = pd.DataFrame()\n",
    "\n",
    "for i in news_requests:\n",
    "    \n",
    "    if news_data.empty == True:\n",
    "        news_data = pd.DataFrame(i.json()['hits'])\n",
    "    else:\n",
    "        try:\n",
    "            mn = pd.DataFrame(i.json()['hits'])\n",
    "        except:\n",
    "            pass\n",
    "        \n",
    "        news_data = news_data.append(mn)"
   ]
  },
  {
   "cell_type": "code",
   "execution_count": 101,
   "metadata": {},
   "outputs": [
    {
     "data": {
      "text/plain": [
       "(8593, 10)"
      ]
     },
     "execution_count": 101,
     "metadata": {},
     "output_type": "execute_result"
    }
   ],
   "source": [
    "news_data.shape"
   ]
  },
  {
   "cell_type": "code",
   "execution_count": 102,
   "metadata": {},
   "outputs": [
    {
     "data": {
      "text/plain": [
       "(8267, 10)"
      ]
     },
     "execution_count": 102,
     "metadata": {},
     "output_type": "execute_result"
    }
   ],
   "source": [
    "# remove any rows with null values\n",
    "news_data = news_data.dropna(how='any',axis=0) \n",
    "news_data.shape"
   ]
  },
  {
   "cell_type": "code",
   "execution_count": 103,
   "metadata": {},
   "outputs": [
    {
     "data": {
      "text/html": [
       "<div>\n",
       "<style scoped>\n",
       "    .dataframe tbody tr th:only-of-type {\n",
       "        vertical-align: middle;\n",
       "    }\n",
       "\n",
       "    .dataframe tbody tr th {\n",
       "        vertical-align: top;\n",
       "    }\n",
       "\n",
       "    .dataframe thead th {\n",
       "        text-align: right;\n",
       "    }\n",
       "</style>\n",
       "<table border=\"1\" class=\"dataframe\">\n",
       "  <thead>\n",
       "    <tr style=\"text-align: right;\">\n",
       "      <th></th>\n",
       "      <th>url</th>\n",
       "      <th>source</th>\n",
       "      <th>authors</th>\n",
       "      <th>title</th>\n",
       "      <th>pubDate</th>\n",
       "      <th>country</th>\n",
       "      <th>language</th>\n",
       "      <th>description</th>\n",
       "      <th>imageUrl</th>\n",
       "      <th>content</th>\n",
       "    </tr>\n",
       "  </thead>\n",
       "  <tbody>\n",
       "    <tr>\n",
       "      <th>0</th>\n",
       "      <td>https://www.ccn.com/dow-futures-soar-as-new-yo...</td>\n",
       "      <td>ccn.com</td>\n",
       "      <td>[]</td>\n",
       "      <td>Dow Futures Soar as New York Begins Winning th...</td>\n",
       "      <td>2020-04-06T05:41:20+00:00</td>\n",
       "      <td>us</td>\n",
       "      <td>en</td>\n",
       "      <td>Dow futures surged 700 points as stock market ...</td>\n",
       "      <td>https://www.ccn.com/wp-content/uploads/2020/04...</td>\n",
       "      <td>\\n• Dow Futures soared overnight as data in Eu...</td>\n",
       "    </tr>\n",
       "    <tr>\n",
       "      <th>0</th>\n",
       "      <td>https://www.smarteranalyst.com/yahoo/apple-sna...</td>\n",
       "      <td>smarteranalyst.com</td>\n",
       "      <td>[Harriet Lefton]</td>\n",
       "      <td>Apple Snaps Up AI Startup Inductiv, As Analyst...</td>\n",
       "      <td>2020-05-28T02:38:10+00:00</td>\n",
       "      <td></td>\n",
       "      <td>en</td>\n",
       "      <td>Apple (AAPL) has snapped up Canadian machine l...</td>\n",
       "      <td>https://www.smarteranalyst.com/wp-content/uplo...</td>\n",
       "      <td>Apple (AAPL) has snapped up Canadian machine l...</td>\n",
       "    </tr>\n",
       "    <tr>\n",
       "      <th>1</th>\n",
       "      <td>https://www.smarteranalyst.com/yahoo/gates-fou...</td>\n",
       "      <td>smarteranalyst.com</td>\n",
       "      <td>[Sharon Wrobel]</td>\n",
       "      <td>Gates Foundation Buys Up Amazon, Apple, Twitte...</td>\n",
       "      <td>2020-05-25T11:02:06+00:00</td>\n",
       "      <td></td>\n",
       "      <td>en</td>\n",
       "      <td>The Bill &amp; Melinda Gates Foundation Trust has ...</td>\n",
       "      <td>https://www.smarteranalyst.com/wp-content/uplo...</td>\n",
       "      <td>The Bill &amp; Melinda Gates Foundation Trust has ...</td>\n",
       "    </tr>\n",
       "    <tr>\n",
       "      <th>2</th>\n",
       "      <td>https://www.smarteranalyst.com/yahoo/apple-chi...</td>\n",
       "      <td>smarteranalyst.com</td>\n",
       "      <td>[Sharon Wrobel]</td>\n",
       "      <td>Apple China Sales On Recovery Path In April, i...</td>\n",
       "      <td>2020-05-25T03:13:23+00:00</td>\n",
       "      <td></td>\n",
       "      <td>en</td>\n",
       "      <td>Apple Inc.’s (AAPL) China sales continued to r...</td>\n",
       "      <td>https://www.smarteranalyst.com/wp-content/uplo...</td>\n",
       "      <td>Apple Inc.’s (AAPL) China sales continued to r...</td>\n",
       "    </tr>\n",
       "    <tr>\n",
       "      <th>3</th>\n",
       "      <td>http://www.smarteranalyst.com/uncategorized/in...</td>\n",
       "      <td>smarteranalyst.com</td>\n",
       "      <td>[Sharon Wrobel]</td>\n",
       "      <td>Intel, Taiwan Semiconductor Said to Be in Talk...</td>\n",
       "      <td>2020-05-13T05:13:13+00:00</td>\n",
       "      <td></td>\n",
       "      <td>en</td>\n",
       "      <td>The Trump administration is holding discussion...</td>\n",
       "      <td>https://www.smarteranalyst.com/wp-content/uplo...</td>\n",
       "      <td>The Trump administration is holding discussion...</td>\n",
       "    </tr>\n",
       "  </tbody>\n",
       "</table>\n",
       "</div>"
      ],
      "text/plain": [
       "                                                 url              source  \\\n",
       "0  https://www.ccn.com/dow-futures-soar-as-new-yo...             ccn.com   \n",
       "0  https://www.smarteranalyst.com/yahoo/apple-sna...  smarteranalyst.com   \n",
       "1  https://www.smarteranalyst.com/yahoo/gates-fou...  smarteranalyst.com   \n",
       "2  https://www.smarteranalyst.com/yahoo/apple-chi...  smarteranalyst.com   \n",
       "3  http://www.smarteranalyst.com/uncategorized/in...  smarteranalyst.com   \n",
       "\n",
       "            authors                                              title  \\\n",
       "0                []  Dow Futures Soar as New York Begins Winning th...   \n",
       "0  [Harriet Lefton]  Apple Snaps Up AI Startup Inductiv, As Analyst...   \n",
       "1   [Sharon Wrobel]  Gates Foundation Buys Up Amazon, Apple, Twitte...   \n",
       "2   [Sharon Wrobel]  Apple China Sales On Recovery Path In April, i...   \n",
       "3   [Sharon Wrobel]  Intel, Taiwan Semiconductor Said to Be in Talk...   \n",
       "\n",
       "                     pubDate country language  \\\n",
       "0  2020-04-06T05:41:20+00:00      us       en   \n",
       "0  2020-05-28T02:38:10+00:00               en   \n",
       "1  2020-05-25T11:02:06+00:00               en   \n",
       "2  2020-05-25T03:13:23+00:00               en   \n",
       "3  2020-05-13T05:13:13+00:00               en   \n",
       "\n",
       "                                         description  \\\n",
       "0  Dow futures surged 700 points as stock market ...   \n",
       "0  Apple (AAPL) has snapped up Canadian machine l...   \n",
       "1  The Bill & Melinda Gates Foundation Trust has ...   \n",
       "2  Apple Inc.’s (AAPL) China sales continued to r...   \n",
       "3  The Trump administration is holding discussion...   \n",
       "\n",
       "                                            imageUrl  \\\n",
       "0  https://www.ccn.com/wp-content/uploads/2020/04...   \n",
       "0  https://www.smarteranalyst.com/wp-content/uplo...   \n",
       "1  https://www.smarteranalyst.com/wp-content/uplo...   \n",
       "2  https://www.smarteranalyst.com/wp-content/uplo...   \n",
       "3  https://www.smarteranalyst.com/wp-content/uplo...   \n",
       "\n",
       "                                             content  \n",
       "0  \\n• Dow Futures soared overnight as data in Eu...  \n",
       "0  Apple (AAPL) has snapped up Canadian machine l...  \n",
       "1  The Bill & Melinda Gates Foundation Trust has ...  \n",
       "2  Apple Inc.’s (AAPL) China sales continued to r...  \n",
       "3  The Trump administration is holding discussion...  "
      ]
     },
     "execution_count": 103,
     "metadata": {},
     "output_type": "execute_result"
    }
   ],
   "source": [
    "news_data.head()"
   ]
  },
  {
   "cell_type": "code",
   "execution_count": 105,
   "metadata": {},
   "outputs": [],
   "source": [
    "# Replace all comas with spaces, since exporting to csv was generating wrong with comas included\n",
    "news_data['url'] = news_data['url'].replace(',','', regex=True)\n",
    "news_data['source'] = news_data['source'].replace(',','', regex=True)\n",
    "news_data['title'] = news_data['title'].replace(',','', regex=True)\n"
   ]
  },
  {
   "cell_type": "code",
   "execution_count": 106,
   "metadata": {},
   "outputs": [
    {
     "data": {
      "text/plain": [
       "'Bring Your \"A\" Game: Amazon Apple Alphabet (And FB) Get Ready To Report After Close'"
      ]
     },
     "execution_count": 106,
     "metadata": {},
     "output_type": "execute_result"
    }
   ],
   "source": [
    "news_data['title'].iloc[107]"
   ]
  },
  {
   "cell_type": "code",
   "execution_count": 107,
   "metadata": {},
   "outputs": [],
   "source": [
    "# Store stock news data in PostgreSQL database\n",
    "\n",
    "conn = None\n",
    "\n",
    "try:\n",
    "    conn = psycopg2.connect(host=\"localhost\", database=\"postgres\", port=5432, user=\"postgres\", password=\"Aki12345+\")\n",
    "\n",
    "    command = \"INSERT INTO stock_news (headline, source, url, date) \\\n",
    "    VALUES (%s, %s, %s, %s);\"\n",
    "\n",
    "    cur = conn.cursor()\n",
    "    for index, row in news_data.iterrows():\n",
    "        cur.execute(command, (str(row['title']),str(row['source']),\n",
    "                              str(row['url']), str(row['pubDate'])))\n",
    "\n",
    "except (Exception, psycopg2.DatabaseError):\n",
    "    print(\"Could not connect to database\")\n",
    "\n",
    "finally:\n",
    "    if conn is not None:\n",
    "        conn.commit()\n",
    "        conn.close()\n",
    "        cur.close()"
   ]
  }
 ],
 "metadata": {
  "kernelspec": {
   "display_name": "Python 3",
   "language": "python",
   "name": "python3"
  },
  "language_info": {
   "codemirror_mode": {
    "name": "ipython",
    "version": 3
   },
   "file_extension": ".py",
   "mimetype": "text/x-python",
   "name": "python",
   "nbconvert_exporter": "python",
   "pygments_lexer": "ipython3",
   "version": "3.7.3"
  }
 },
 "nbformat": 4,
 "nbformat_minor": 2
}

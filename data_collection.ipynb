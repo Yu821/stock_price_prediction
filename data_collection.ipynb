{
 "cells": [
  {
   "cell_type": "markdown",
   "metadata": {},
   "source": [
    "# Import Libraries"
   ]
  },
  {
   "cell_type": "code",
   "execution_count": 5,
   "metadata": {},
   "outputs": [],
   "source": [
    "import pandas as pd\n",
    "import os\n",
    "import requests\n",
    "import psycopg2\n",
    "import psycopg2.extras"
   ]
  },
  {
   "cell_type": "markdown",
   "metadata": {},
   "source": [
    "# IEX API Credentials"
   ]
  },
  {
   "cell_type": "code",
   "execution_count": 6,
   "metadata": {},
   "outputs": [
    {
     "data": {
      "text/plain": [
       "<Response [200]>"
      ]
     },
     "execution_count": 6,
     "metadata": {},
     "output_type": "execute_result"
    }
   ],
   "source": [
    "token = \"pk_8461a849e72a477296d96c3b9c8ecd2f\"\n",
    "\n",
    "base_url = 'https://cloud.iexapis.com/v1'\n",
    "\n",
    "resp = requests.get(base_url + '/status')\n",
    "\n",
    "resp"
   ]
  },
  {
   "cell_type": "markdown",
   "metadata": {},
   "source": [
    "# Stocks To Collect Data On"
   ]
  },
  {
   "cell_type": "code",
   "execution_count": 7,
   "metadata": {},
   "outputs": [],
   "source": [
    "tickers= [\"APPL\", \"FB\", \"ADBE\", \"INTC\"]\n",
    "          \n",
    "# \"PYPL\", \"BABA\", \"QCOM\", \"SHOP\", \"AMD\", \"MSFT\"]"
   ]
  },
  {
   "cell_type": "markdown",
   "metadata": {},
   "source": [
    "# Import Historical Stock Data"
   ]
  },
  {
   "cell_type": "code",
   "execution_count": null,
   "metadata": {},
   "outputs": [],
   "source": [
    "# Retreive news for each stock for the past year\n",
    "\n",
    "news_requests = []\n",
    "\n",
    "params = {'token': token,\n",
    "          '_range': '1y'}\n",
    "\n",
    "for ticker in tickers:\n",
    "    \n",
    "    endpoint = '/stock/{}/news'.format(ticker)\n",
    "\n",
    "    r = requests.get(base_url+endpoint, params=params)\n",
    "    \n",
    "    news_requests.append(r)\n"
   ]
  },
  {
   "cell_type": "markdown",
   "metadata": {},
   "source": [
    "# Store Historical Stock Data"
   ]
  },
  {
   "cell_type": "code",
   "execution_count": null,
   "metadata": {},
   "outputs": [],
   "source": [
    "\n",
    "news_data = pd.DataFrame()\n",
    "\n",
    "for i in news_requests:\n",
    "    mn = pd.DataFrame(i.json())\n",
    "    news_data.append(mn)\n",
    "\n",
    "news_data.head()\n"
   ]
  },
  {
   "cell_type": "code",
   "execution_count": null,
   "metadata": {},
   "outputs": [],
   "source": [
    "# Store indexes in csv file\n",
    "    conn = None\n",
    "    try:\n",
    "        conn = psycopg2.connect(host=\"localhost\", database=\"postgres\", port=5432, user=\"postgres\", password=\"Aki12345+\")\n",
    "\n",
    "        command = \"INSERT INTO indexer (keys, value) VALUES (%s, %s);\"\n",
    "\n",
    "        cur = conn.cursor()\n",
    "        for key, value in index.items():\n",
    "            cur.execute(command, (str(key), str(value)))\n",
    "\n",
    "    except (Exception, psycopg2.DatabaseError):\n",
    "        print(\"Could not connect to database\")\n",
    "\n",
    "    finally:\n",
    "        if conn is not None:\n",
    "            conn.commit()\n",
    "            conn.close()\n",
    "            cur.close()"
   ]
  }
 ],
 "metadata": {
  "kernelspec": {
   "display_name": "Python 3",
   "language": "python",
   "name": "python3"
  },
  "language_info": {
   "codemirror_mode": {
    "name": "ipython",
    "version": 3
   },
   "file_extension": ".py",
   "mimetype": "text/x-python",
   "name": "python",
   "nbconvert_exporter": "python",
   "pygments_lexer": "ipython3",
   "version": "3.7.3"
  }
 },
 "nbformat": 4,
 "nbformat_minor": 2
}
